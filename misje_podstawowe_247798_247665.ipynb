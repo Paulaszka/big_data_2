{
 "cells": [
  {
   "metadata": {},
   "cell_type": "markdown",
   "source": [
    "### Podstawy przetwarzania dużych zbiorów danych - poziom 2 misje podstawowe\n",
    "#### Paulina Szczepaniak 247798\n",
    "#### Jan Gluźniewicz 247665"
   ],
   "id": "91545eed9cc67db6"
  },
  {
   "metadata": {
    "ExecuteTime": {
     "end_time": "2025-03-26T14:17:58.192595Z",
     "start_time": "2025-03-26T14:17:58.184972Z"
    }
   },
   "cell_type": "code",
   "source": [
    "import pandas as pd\n",
    "import numpy as np\n",
    "import matplotlib.pyplot as plt\n",
    "import seaborn as sns"
   ],
   "id": "e7f03d032bc654eb",
   "outputs": [],
   "execution_count": 233
  },
  {
   "metadata": {
    "ExecuteTime": {
     "end_time": "2025-03-26T14:18:00.259250Z",
     "start_time": "2025-03-26T14:17:58.478053Z"
    }
   },
   "cell_type": "code",
   "source": [
    "df = pd.read_csv('df_merged_world_countries.csv')\n",
    "df"
   ],
   "id": "69d13c42c553f0e7",
   "outputs": [
    {
     "data": {
      "text/plain": [
       "                    country_name location_key country_code  population  \\\n",
       "0                      Australia           AU          AUS    25499881   \n",
       "1                   South Africa           ZA          ZAF    59308690   \n",
       "2                           Peru           PE          PER    29381884   \n",
       "3       United States of America           US          USA   331002647   \n",
       "4                       Ethiopia           ET          ETH   114963583   \n",
       "...                          ...          ...          ...         ...   \n",
       "227925                   Croatia           HR          HRV     4076246   \n",
       "227926                   Austria           AT          AUT     8858775   \n",
       "227927                 Argentina           AR          ARG    44938712   \n",
       "227928                    Sweden           SE          SWE    10230185   \n",
       "227929                   Belarus           BY          BLR     9449321   \n",
       "\n",
       "             gdp_usd  area_sq_km        date  new_confirmed  \\\n",
       "0       1.392681e+12     7741220  2022-01-18        72860.0   \n",
       "1       3.514316e+11     1219090  2022-01-02         3076.0   \n",
       "2       2.268481e+11     1285220  2021-03-30        10539.0   \n",
       "3       2.137442e+13     9831510  2021-09-08       167791.0   \n",
       "4       9.610766e+10     1104300  2021-11-10          459.0   \n",
       "...              ...         ...         ...            ...   \n",
       "227925  6.091759e+10       56590  2022-08-28           59.0   \n",
       "227926  4.551400e+11       83879  2022-07-27         9019.0   \n",
       "227927  4.496634e+11     2780400  2021-10-10          382.0   \n",
       "227928  5.560253e+11      447430  2021-03-16         6786.0   \n",
       "227929  6.308046e+10      207600  2022-01-02          507.0   \n",
       "\n",
       "        cumulative_confirmed  new_deceased  ...  area_sq_km_2  density_sq_km  \\\n",
       "0                  1836671.0          78.0  ...       7692024         3.4032   \n",
       "1                  3475512.0          84.0  ...       1221037        49.0517   \n",
       "2                  1577076.0         748.0  ...       1285216        26.4933   \n",
       "3                 39489769.0        2068.0  ...       9372610        36.0935   \n",
       "4                   368106.0          22.0  ...       1104300       111.7268   \n",
       "...                      ...           ...  ...           ...            ...   \n",
       "227925             1211979.0          15.0  ...         56594        71.2153   \n",
       "227926             4756351.0          15.0  ...         83871       106.5877   \n",
       "227927             5289547.0          15.0  ...       2780400        16.3683   \n",
       "227928              731890.0          15.0  ...        450295        23.4276   \n",
       "227929              701699.0          15.0  ...        207600        45.9295   \n",
       "\n",
       "        growth_rate  world_population_percentage   gdp_in_1995   gdp_in_2000  \\\n",
       "0            1.0099                         0.33  3.683917e+11  4.154462e+11   \n",
       "1            1.0084                         0.75  1.554603e+11  1.363619e+11   \n",
       "2            1.0099                         0.43  5.331279e+10  5.174475e+10   \n",
       "3            1.0038                         4.24  7.664060e+12  1.028478e+13   \n",
       "4            1.0257                         1.55  7.663985e+09  8.242392e+09   \n",
       "...             ...                          ...           ...           ...   \n",
       "227925       0.9927                         0.05  2.238756e+10  2.177427e+10   \n",
       "227926       1.0020                         0.11  2.410383e+11  1.967998e+11   \n",
       "227927       1.0052                         0.57  2.580318e+11  2.842038e+11   \n",
       "227928       1.0079                         0.13  2.640520e+11  2.598020e+11   \n",
       "227929       0.9955                         0.12  1.397263e+10  1.273686e+10   \n",
       "\n",
       "         gdp_in_2005   gdp_in_2010   gdp_in_2015   gdp_in_2016  \n",
       "0       6.937641e+11  1.142877e+12  1.345383e+12  1.204616e+12  \n",
       "1       2.576714e+11  3.752981e+11  3.176107e+11  2.954562e+11  \n",
       "2       7.606061e+10  1.475289e+11  1.892121e+11  1.922073e+11  \n",
       "3       1.309373e+13  1.496437e+13  1.812071e+13  1.862448e+13  \n",
       "4       1.240114e+10  2.993379e+10  6.446455e+10  7.237422e+10  \n",
       "...              ...           ...           ...           ...  \n",
       "227925  4.541636e+10  5.966543e+10  4.892188e+10  5.071496e+10  \n",
       "227926  3.159744e+11  3.918927e+11  3.820659e+11  3.908000e+11  \n",
       "227927  1.987371e+11  4.236274e+11  5.847115e+11  5.454761e+11  \n",
       "227928  3.890423e+11  4.883777e+11  4.979181e+11  5.144600e+11  \n",
       "227929  3.021009e+10  5.722249e+10  5.645473e+10  4.740722e+10  \n",
       "\n",
       "[227930 rows x 37 columns]"
      ],
      "text/html": [
       "<div>\n",
       "<style scoped>\n",
       "    .dataframe tbody tr th:only-of-type {\n",
       "        vertical-align: middle;\n",
       "    }\n",
       "\n",
       "    .dataframe tbody tr th {\n",
       "        vertical-align: top;\n",
       "    }\n",
       "\n",
       "    .dataframe thead th {\n",
       "        text-align: right;\n",
       "    }\n",
       "</style>\n",
       "<table border=\"1\" class=\"dataframe\">\n",
       "  <thead>\n",
       "    <tr style=\"text-align: right;\">\n",
       "      <th></th>\n",
       "      <th>country_name</th>\n",
       "      <th>location_key</th>\n",
       "      <th>country_code</th>\n",
       "      <th>population</th>\n",
       "      <th>gdp_usd</th>\n",
       "      <th>area_sq_km</th>\n",
       "      <th>date</th>\n",
       "      <th>new_confirmed</th>\n",
       "      <th>cumulative_confirmed</th>\n",
       "      <th>new_deceased</th>\n",
       "      <th>...</th>\n",
       "      <th>area_sq_km_2</th>\n",
       "      <th>density_sq_km</th>\n",
       "      <th>growth_rate</th>\n",
       "      <th>world_population_percentage</th>\n",
       "      <th>gdp_in_1995</th>\n",
       "      <th>gdp_in_2000</th>\n",
       "      <th>gdp_in_2005</th>\n",
       "      <th>gdp_in_2010</th>\n",
       "      <th>gdp_in_2015</th>\n",
       "      <th>gdp_in_2016</th>\n",
       "    </tr>\n",
       "  </thead>\n",
       "  <tbody>\n",
       "    <tr>\n",
       "      <th>0</th>\n",
       "      <td>Australia</td>\n",
       "      <td>AU</td>\n",
       "      <td>AUS</td>\n",
       "      <td>25499881</td>\n",
       "      <td>1.392681e+12</td>\n",
       "      <td>7741220</td>\n",
       "      <td>2022-01-18</td>\n",
       "      <td>72860.0</td>\n",
       "      <td>1836671.0</td>\n",
       "      <td>78.0</td>\n",
       "      <td>...</td>\n",
       "      <td>7692024</td>\n",
       "      <td>3.4032</td>\n",
       "      <td>1.0099</td>\n",
       "      <td>0.33</td>\n",
       "      <td>3.683917e+11</td>\n",
       "      <td>4.154462e+11</td>\n",
       "      <td>6.937641e+11</td>\n",
       "      <td>1.142877e+12</td>\n",
       "      <td>1.345383e+12</td>\n",
       "      <td>1.204616e+12</td>\n",
       "    </tr>\n",
       "    <tr>\n",
       "      <th>1</th>\n",
       "      <td>South Africa</td>\n",
       "      <td>ZA</td>\n",
       "      <td>ZAF</td>\n",
       "      <td>59308690</td>\n",
       "      <td>3.514316e+11</td>\n",
       "      <td>1219090</td>\n",
       "      <td>2022-01-02</td>\n",
       "      <td>3076.0</td>\n",
       "      <td>3475512.0</td>\n",
       "      <td>84.0</td>\n",
       "      <td>...</td>\n",
       "      <td>1221037</td>\n",
       "      <td>49.0517</td>\n",
       "      <td>1.0084</td>\n",
       "      <td>0.75</td>\n",
       "      <td>1.554603e+11</td>\n",
       "      <td>1.363619e+11</td>\n",
       "      <td>2.576714e+11</td>\n",
       "      <td>3.752981e+11</td>\n",
       "      <td>3.176107e+11</td>\n",
       "      <td>2.954562e+11</td>\n",
       "    </tr>\n",
       "    <tr>\n",
       "      <th>2</th>\n",
       "      <td>Peru</td>\n",
       "      <td>PE</td>\n",
       "      <td>PER</td>\n",
       "      <td>29381884</td>\n",
       "      <td>2.268481e+11</td>\n",
       "      <td>1285220</td>\n",
       "      <td>2021-03-30</td>\n",
       "      <td>10539.0</td>\n",
       "      <td>1577076.0</td>\n",
       "      <td>748.0</td>\n",
       "      <td>...</td>\n",
       "      <td>1285216</td>\n",
       "      <td>26.4933</td>\n",
       "      <td>1.0099</td>\n",
       "      <td>0.43</td>\n",
       "      <td>5.331279e+10</td>\n",
       "      <td>5.174475e+10</td>\n",
       "      <td>7.606061e+10</td>\n",
       "      <td>1.475289e+11</td>\n",
       "      <td>1.892121e+11</td>\n",
       "      <td>1.922073e+11</td>\n",
       "    </tr>\n",
       "    <tr>\n",
       "      <th>3</th>\n",
       "      <td>United States of America</td>\n",
       "      <td>US</td>\n",
       "      <td>USA</td>\n",
       "      <td>331002647</td>\n",
       "      <td>2.137442e+13</td>\n",
       "      <td>9831510</td>\n",
       "      <td>2021-09-08</td>\n",
       "      <td>167791.0</td>\n",
       "      <td>39489769.0</td>\n",
       "      <td>2068.0</td>\n",
       "      <td>...</td>\n",
       "      <td>9372610</td>\n",
       "      <td>36.0935</td>\n",
       "      <td>1.0038</td>\n",
       "      <td>4.24</td>\n",
       "      <td>7.664060e+12</td>\n",
       "      <td>1.028478e+13</td>\n",
       "      <td>1.309373e+13</td>\n",
       "      <td>1.496437e+13</td>\n",
       "      <td>1.812071e+13</td>\n",
       "      <td>1.862448e+13</td>\n",
       "    </tr>\n",
       "    <tr>\n",
       "      <th>4</th>\n",
       "      <td>Ethiopia</td>\n",
       "      <td>ET</td>\n",
       "      <td>ETH</td>\n",
       "      <td>114963583</td>\n",
       "      <td>9.610766e+10</td>\n",
       "      <td>1104300</td>\n",
       "      <td>2021-11-10</td>\n",
       "      <td>459.0</td>\n",
       "      <td>368106.0</td>\n",
       "      <td>22.0</td>\n",
       "      <td>...</td>\n",
       "      <td>1104300</td>\n",
       "      <td>111.7268</td>\n",
       "      <td>1.0257</td>\n",
       "      <td>1.55</td>\n",
       "      <td>7.663985e+09</td>\n",
       "      <td>8.242392e+09</td>\n",
       "      <td>1.240114e+10</td>\n",
       "      <td>2.993379e+10</td>\n",
       "      <td>6.446455e+10</td>\n",
       "      <td>7.237422e+10</td>\n",
       "    </tr>\n",
       "    <tr>\n",
       "      <th>...</th>\n",
       "      <td>...</td>\n",
       "      <td>...</td>\n",
       "      <td>...</td>\n",
       "      <td>...</td>\n",
       "      <td>...</td>\n",
       "      <td>...</td>\n",
       "      <td>...</td>\n",
       "      <td>...</td>\n",
       "      <td>...</td>\n",
       "      <td>...</td>\n",
       "      <td>...</td>\n",
       "      <td>...</td>\n",
       "      <td>...</td>\n",
       "      <td>...</td>\n",
       "      <td>...</td>\n",
       "      <td>...</td>\n",
       "      <td>...</td>\n",
       "      <td>...</td>\n",
       "      <td>...</td>\n",
       "      <td>...</td>\n",
       "      <td>...</td>\n",
       "    </tr>\n",
       "    <tr>\n",
       "      <th>227925</th>\n",
       "      <td>Croatia</td>\n",
       "      <td>HR</td>\n",
       "      <td>HRV</td>\n",
       "      <td>4076246</td>\n",
       "      <td>6.091759e+10</td>\n",
       "      <td>56590</td>\n",
       "      <td>2022-08-28</td>\n",
       "      <td>59.0</td>\n",
       "      <td>1211979.0</td>\n",
       "      <td>15.0</td>\n",
       "      <td>...</td>\n",
       "      <td>56594</td>\n",
       "      <td>71.2153</td>\n",
       "      <td>0.9927</td>\n",
       "      <td>0.05</td>\n",
       "      <td>2.238756e+10</td>\n",
       "      <td>2.177427e+10</td>\n",
       "      <td>4.541636e+10</td>\n",
       "      <td>5.966543e+10</td>\n",
       "      <td>4.892188e+10</td>\n",
       "      <td>5.071496e+10</td>\n",
       "    </tr>\n",
       "    <tr>\n",
       "      <th>227926</th>\n",
       "      <td>Austria</td>\n",
       "      <td>AT</td>\n",
       "      <td>AUT</td>\n",
       "      <td>8858775</td>\n",
       "      <td>4.551400e+11</td>\n",
       "      <td>83879</td>\n",
       "      <td>2022-07-27</td>\n",
       "      <td>9019.0</td>\n",
       "      <td>4756351.0</td>\n",
       "      <td>15.0</td>\n",
       "      <td>...</td>\n",
       "      <td>83871</td>\n",
       "      <td>106.5877</td>\n",
       "      <td>1.0020</td>\n",
       "      <td>0.11</td>\n",
       "      <td>2.410383e+11</td>\n",
       "      <td>1.967998e+11</td>\n",
       "      <td>3.159744e+11</td>\n",
       "      <td>3.918927e+11</td>\n",
       "      <td>3.820659e+11</td>\n",
       "      <td>3.908000e+11</td>\n",
       "    </tr>\n",
       "    <tr>\n",
       "      <th>227927</th>\n",
       "      <td>Argentina</td>\n",
       "      <td>AR</td>\n",
       "      <td>ARG</td>\n",
       "      <td>44938712</td>\n",
       "      <td>4.496634e+11</td>\n",
       "      <td>2780400</td>\n",
       "      <td>2021-10-10</td>\n",
       "      <td>382.0</td>\n",
       "      <td>5289547.0</td>\n",
       "      <td>15.0</td>\n",
       "      <td>...</td>\n",
       "      <td>2780400</td>\n",
       "      <td>16.3683</td>\n",
       "      <td>1.0052</td>\n",
       "      <td>0.57</td>\n",
       "      <td>2.580318e+11</td>\n",
       "      <td>2.842038e+11</td>\n",
       "      <td>1.987371e+11</td>\n",
       "      <td>4.236274e+11</td>\n",
       "      <td>5.847115e+11</td>\n",
       "      <td>5.454761e+11</td>\n",
       "    </tr>\n",
       "    <tr>\n",
       "      <th>227928</th>\n",
       "      <td>Sweden</td>\n",
       "      <td>SE</td>\n",
       "      <td>SWE</td>\n",
       "      <td>10230185</td>\n",
       "      <td>5.560253e+11</td>\n",
       "      <td>447430</td>\n",
       "      <td>2021-03-16</td>\n",
       "      <td>6786.0</td>\n",
       "      <td>731890.0</td>\n",
       "      <td>15.0</td>\n",
       "      <td>...</td>\n",
       "      <td>450295</td>\n",
       "      <td>23.4276</td>\n",
       "      <td>1.0079</td>\n",
       "      <td>0.13</td>\n",
       "      <td>2.640520e+11</td>\n",
       "      <td>2.598020e+11</td>\n",
       "      <td>3.890423e+11</td>\n",
       "      <td>4.883777e+11</td>\n",
       "      <td>4.979181e+11</td>\n",
       "      <td>5.144600e+11</td>\n",
       "    </tr>\n",
       "    <tr>\n",
       "      <th>227929</th>\n",
       "      <td>Belarus</td>\n",
       "      <td>BY</td>\n",
       "      <td>BLR</td>\n",
       "      <td>9449321</td>\n",
       "      <td>6.308046e+10</td>\n",
       "      <td>207600</td>\n",
       "      <td>2022-01-02</td>\n",
       "      <td>507.0</td>\n",
       "      <td>701699.0</td>\n",
       "      <td>15.0</td>\n",
       "      <td>...</td>\n",
       "      <td>207600</td>\n",
       "      <td>45.9295</td>\n",
       "      <td>0.9955</td>\n",
       "      <td>0.12</td>\n",
       "      <td>1.397263e+10</td>\n",
       "      <td>1.273686e+10</td>\n",
       "      <td>3.021009e+10</td>\n",
       "      <td>5.722249e+10</td>\n",
       "      <td>5.645473e+10</td>\n",
       "      <td>4.740722e+10</td>\n",
       "    </tr>\n",
       "  </tbody>\n",
       "</table>\n",
       "<p>227930 rows × 37 columns</p>\n",
       "</div>"
      ]
     },
     "execution_count": 234,
     "metadata": {},
     "output_type": "execute_result"
    }
   ],
   "execution_count": 234
  },
  {
   "metadata": {
    "ExecuteTime": {
     "end_time": "2025-03-26T14:18:00.269987Z",
     "start_time": "2025-03-26T14:18:00.263228Z"
    }
   },
   "cell_type": "code",
   "source": [
    "kolumny = df.columns.tolist()  # Pobranie listy kolumn\n",
    "\n",
    "print(kolumny)"
   ],
   "id": "f506bd4ceaefdd3a",
   "outputs": [
    {
     "name": "stdout",
     "output_type": "stream",
     "text": [
      "['country_name', 'location_key', 'country_code', 'population', 'gdp_usd', 'area_sq_km', 'date', 'new_confirmed', 'cumulative_confirmed', 'new_deceased', 'cumulative_deceased', 'new_persons_vaccinated', 'cumulative_persons_vaccinated', 'new_tested', 'cumulative_tested', 'rank', 'country_territory_name', 'capital', 'continent', '2022_population', '2020_population', '2015_population', '2010_population', '2000_population', '1990_population', '1980_population', '1970_population', 'area_sq_km_2', 'density_sq_km', 'growth_rate', 'world_population_percentage', 'gdp_in_1995', 'gdp_in_2000', 'gdp_in_2005', 'gdp_in_2010', 'gdp_in_2015', 'gdp_in_2016']\n"
     ]
    }
   ],
   "execution_count": 235
  },
  {
   "metadata": {},
   "cell_type": "markdown",
   "source": [
    "### Część 1\n",
    "\n",
    "##### Wartości odstające to wartości, które różnią się znacząco od większości danych w zbiorze. Mogą one wpłynąć na analizę danych, szczególnie na statystyki opisowe, takie jak średnia czy mediana. \n",
    "\n",
    "##### Pamiętaj o czytelności wykresów (tytuł wykresu, podpisy osi, odpowiednie zakresy osi, itp.). Przeanalizuj otrzymane wizualizacje. \n",
    "\n",
    "##### Wykonaj wykresy pudełkowe (ang.box plot), które pozwolą na graficzną identyfikację wartości odstających poprzez przedstawienie kwartyli i wartości skrajnych w danych dotyczących:"
   ],
   "id": "b1ddb08481db4fc7"
  },
  {
   "metadata": {},
   "cell_type": "markdown",
   "source": "##### 1.1. liczby nowych zachorowań",
   "id": "5bd43ff3509de507"
  },
  {
   "metadata": {
    "ExecuteTime": {
     "end_time": "2025-03-26T14:18:01.254692Z",
     "start_time": "2025-03-26T14:18:00.272411Z"
    }
   },
   "cell_type": "code",
   "source": [
    "plt.figure(figsize=(14, 3))\n",
    "sns.boxplot(x=df['new_confirmed'], notch=True, showcaps=False, flierprops={\"marker\": \"x\"}, boxprops={\"facecolor\": \"mediumpurple\", \"alpha\": 0.7}, medianprops={\"color\": \"indigo\", \"linewidth\": 2})\n",
    "plt.title(f\"Boxplot for column new_confirmed\")\n",
    "plt.xlabel(\"Wartości\")\n",
    "plt.xlim(df['new_confirmed'].min() * 0.8, df['new_confirmed'].max() * 1.2)\n",
    "plt.grid(True)\n",
    "plt.xscale(\"symlog\")\n",
    "plt.show()"
   ],
   "id": "a46e390c17faa894",
   "outputs": [
    {
     "data": {
      "text/plain": [
       "<Figure size 1400x300 with 1 Axes>"
      ],
      "image/png": "[encoded data removed]"
     },
     "metadata": {},
     "output_type": "display_data"
    }
   ],
   "execution_count": 236
  },
  {
   "metadata": {},
   "cell_type": "markdown",
   "source": "##### 1.2. liczby nowych śmierci",
   "id": "d47cdfa94c46038d"
  },
  {
   "metadata": {
    "ExecuteTime": {
     "end_time": "2025-03-26T14:18:02.328920Z",
     "start_time": "2025-03-26T14:18:01.258762Z"
    }
   },
   "cell_type": "code",
   "source": [
    "plt.figure(figsize=(14, 3))\n",
    "sns.boxplot(x=df['new_deceased'], notch=True, showcaps=True, flierprops={\"marker\": \"x\"}, boxprops={\"facecolor\": \"mediumpurple\", \"alpha\": 0.7}, medianprops={\"color\": \"indigo\", \"linewidth\": 2})\n",
    "plt.title(f\"Boxplot for column new_deceased\")\n",
    "plt.xlabel(\"Wartości\")\n",
    "plt.xlim(df['new_deceased'].min() * 0.8, df['new_deceased'].max() * 1.2)\n",
    "plt.grid(True)\n",
    "plt.xscale(\"symlog\")\n",
    "plt.show()"
   ],
   "id": "1e814b8a2e6f02ba",
   "outputs": [
    {
     "data": {
      "text/plain": [
       "<Figure size 1400x300 with 1 Axes>"
      ],
      "image/png": "[encoded data removed]"
     },
     "metadata": {},
     "output_type": "display_data"
    }
   ],
   "execution_count": 237
  },
  {
   "metadata": {},
   "cell_type": "markdown",
   "source": "##### 1.3. liczby nowych szczepień",
   "id": "494a12c45d66cae"
  },
  {
   "metadata": {
    "ExecuteTime": {
     "end_time": "2025-03-26T14:18:03.156129Z",
     "start_time": "2025-03-26T14:18:02.330542Z"
    }
   },
   "cell_type": "code",
   "source": [
    "plt.figure(figsize=(14, 3))\n",
    "sns.boxplot(x=df['new_persons_vaccinated'], notch=True, showcaps=True, flierprops={\"marker\": \"x\"}, boxprops={\"facecolor\": \"mediumpurple\", \"alpha\": 0.7}, medianprops={\"color\": \"indigo\", \"linewidth\": 2})\n",
    "plt.title(f\"Boxplot for column new_persons_vaccinated\")\n",
    "plt.xlabel(\"Wartości\")\n",
    "plt.xlim(df['new_persons_vaccinated'].min() * 0.8, df['new_persons_vaccinated'].max() * 1.2)\n",
    "plt.grid(True)\n",
    "plt.xscale(\"symlog\")\n",
    "plt.show()"
   ],
   "id": "d8fb791878f63240",
   "outputs": [
    {
     "data": {
      "text/plain": [
       "<Figure size 1400x300 with 1 Axes>"
      ],
      "image/png": "[encoded data removed]"
     },
     "metadata": {},
     "output_type": "display_data"
    }
   ],
   "execution_count": 238
  },
  {
   "metadata": {},
   "cell_type": "markdown",
   "source": "##### 1.4. populacji",
   "id": "2a2acf15fcbfd29c"
  },
  {
   "metadata": {
    "ExecuteTime": {
     "end_time": "2025-03-26T14:18:03.719373Z",
     "start_time": "2025-03-26T14:18:03.156129Z"
    }
   },
   "cell_type": "code",
   "source": [
    "plt.figure(figsize=(14, 3))\n",
    "sns.boxplot(x=df['population'], notch=True, showcaps=True, flierprops={\"marker\": \"x\"}, boxprops={\"facecolor\": \"mediumpurple\", \"alpha\": 0.7}, medianprops={\"color\": \"indigo\", \"linewidth\": 2})\n",
    "plt.title(f\"Boxplot for column population\")\n",
    "plt.xlabel(\"Wartości\")\n",
    "plt.xlim(df['population'].min() * 0.8, df['population'].max() * 1.2)\n",
    "plt.grid(True)\n",
    "plt.xscale(\"symlog\")\n",
    "plt.show()"
   ],
   "id": "d8cdb6fd889a4919",
   "outputs": [
    {
     "data": {
      "text/plain": [
       "<Figure size 1400x300 with 1 Axes>"
      ],
      "image/png": "[encoded data removed]"
     },
     "metadata": {},
     "output_type": "display_data"
    }
   ],
   "execution_count": 239
  },
  {
   "metadata": {},
   "cell_type": "markdown",
   "source": "##### 1.5. PKB",
   "id": "5c4b5f8a7abeefcd"
  },
  {
   "metadata": {
    "ExecuteTime": {
     "end_time": "2025-03-26T14:18:04.370095Z",
     "start_time": "2025-03-26T14:18:03.719373Z"
    }
   },
   "cell_type": "code",
   "source": [
    "plt.figure(figsize=(14, 3))\n",
    "sns.boxplot(x=df['gdp_usd'], notch=True, showcaps=True, flierprops={\"marker\": \"x\"}, boxprops={\"facecolor\": \"mediumpurple\", \"alpha\": 0.7}, medianprops={\"color\": \"indigo\", \"linewidth\": 2})\n",
    "plt.title(f\"Boxplot for column gdp_usd\")\n",
    "plt.xlabel(\"Wartości\")\n",
    "plt.xlim(df['gdp_usd'].min() * 0.8, df['gdp_usd'].max() * 1.2)\n",
    "plt.grid(True)\n",
    "plt.xscale(\"symlog\")\n",
    "plt.show()"
   ],
   "id": "ef4af96779cd9ad7",
   "outputs": [
    {
     "data": {
      "text/plain": [
       "<Figure size 1400x300 with 1 Axes>"
      ],
      "image/png": "[encoded data removed]"
     },
     "metadata": {},
     "output_type": "display_data"
    }
   ],
   "execution_count": 240
  },
  {
   "metadata": {},
   "cell_type": "markdown",
   "source": "##### 1.6. 4 innych różnych informacji, które uznasz za istotne",
   "id": "31f264481c3f0e9b"
  },
  {
   "metadata": {
    "ExecuteTime": {
     "end_time": "2025-03-26T14:18:05.070771Z",
     "start_time": "2025-03-26T14:18:04.370095Z"
    }
   },
   "cell_type": "code",
   "source": [
    "plt.figure(figsize=(14, 3))\n",
    "sns.boxplot(x=df['new_tested'], notch=True, showcaps=True, flierprops={\"marker\": \"x\"}, boxprops={\"facecolor\": \"mediumpurple\", \"alpha\": 0.7}, medianprops={\"color\": \"indigo\", \"linewidth\": 2})\n",
    "plt.title(f\"Boxplot for column new_tested\")\n",
    "plt.xlabel(\"Wartości\")\n",
    "plt.xlim(df['new_tested'].min() * 0.8, df['new_tested'].max() * 1.2)\n",
    "plt.grid(True)\n",
    "plt.xscale(\"symlog\")\n",
    "plt.show()"
   ],
   "id": "a712f54ed85df18e",
   "outputs": [
    {
     "data": {
      "text/plain": [
       "<Figure size 1400x300 with 1 Axes>"
      ],
      "image/png": "[encoded data removed]"
     },
     "metadata": {},
     "output_type": "display_data"
    }
   ],
   "execution_count": 241
  },
  {
   "metadata": {
    "ExecuteTime": {
     "end_time": "2025-03-26T14:18:05.769466Z",
     "start_time": "2025-03-26T14:18:05.070771Z"
    }
   },
   "cell_type": "code",
   "source": [
    "plt.figure(figsize=(14, 3))\n",
    "sns.boxplot(x=df['area_sq_km'], notch=True, showcaps=True, flierprops={\"marker\": \"x\"}, boxprops={\"facecolor\": \"mediumpurple\", \"alpha\": 0.7}, medianprops={\"color\": \"indigo\", \"linewidth\": 2})\n",
    "plt.title(f\"Boxplot for column area_sq_km\")\n",
    "plt.xlabel(\"Wartości\")\n",
    "plt.xlim(df['area_sq_km'].min() * 0.8, df['area_sq_km'].max() * 1.2)\n",
    "plt.grid(True)\n",
    "plt.xscale(\"symlog\")\n",
    "plt.show()"
   ],
   "id": "8dfd59a76ba67908",
   "outputs": [
    {
     "data": {
      "text/plain": [
       "<Figure size 1400x300 with 1 Axes>"
      ],
      "image/png": "[encoded data removed]"
     },
     "metadata": {},
     "output_type": "display_data"
    }
   ],
   "execution_count": 242
  },
  {
   "metadata": {
    "ExecuteTime": {
     "end_time": "2025-03-26T14:18:06.323342Z",
     "start_time": "2025-03-26T14:18:05.773262Z"
    }
   },
   "cell_type": "code",
   "source": [
    "plt.figure(figsize=(14, 3))\n",
    "sns.boxplot(x=df['density_sq_km'], notch=True, showcaps=True, flierprops={\"marker\": \"x\"}, boxprops={\"facecolor\": \"mediumpurple\", \"alpha\": 0.7}, medianprops={\"color\": \"indigo\", \"linewidth\": 2})\n",
    "plt.title(f\"Boxplot for column density_sq_km\")\n",
    "plt.xlabel(\"Wartości\")\n",
    "plt.xlim(df['density_sq_km'].min() * 0.8, df['density_sq_km'].max() * 1.2)\n",
    "plt.grid(True)\n",
    "plt.xscale(\"symlog\")\n",
    "plt.show()"
   ],
   "id": "eaaf09faea5f8917",
   "outputs": [
    {
     "data": {
      "text/plain": [
       "<Figure size 1400x300 with 1 Axes>"
      ],
      "image/png": "[encoded data removed]"
     },
     "metadata": {},
     "output_type": "display_data"
    }
   ],
   "execution_count": 243
  },
  {
   "metadata": {
    "ExecuteTime": {
     "end_time": "2025-03-26T14:18:06.848229Z",
     "start_time": "2025-03-26T14:18:06.325097Z"
    }
   },
   "cell_type": "code",
   "source": [
    "plt.figure(figsize=(14, 3))\n",
    "sns.boxplot(x=df['world_population_percentage'], notch=True, showcaps=True, flierprops={\"marker\": \"x\"}, boxprops={\"facecolor\": \"mediumpurple\", \"alpha\": 0.7}, medianprops={\"color\": \"indigo\", \"linewidth\": 2})\n",
    "plt.title(f\"Boxplot for column world_population_percentage\")\n",
    "plt.xlabel(\"Wartości\")\n",
    "plt.xlim(df['world_population_percentage'].min() * 0.8, df['world_population_percentage'].max() * 1.2)\n",
    "plt.grid(True)\n",
    "plt.xscale(\"symlog\")\n",
    "plt.show()"
   ],
   "id": "9951ece5f4b6b72b",
   "outputs": [
    {
     "data": {
      "text/plain": [
       "<Figure size 1400x300 with 1 Axes>"
      ],
      "image/png": "[encoded data removed]"
     },
     "metadata": {},
     "output_type": "display_data"
    }
   ],
   "execution_count": 244
  },
  {
   "metadata": {},
   "cell_type": "markdown",
   "source": [
    "### Część 3\n",
    "\n",
    "##### Obliczenia statystyczne (m.in. średnia, mediana, moda, odchylenie standardowe) pozwolają na zrozumienie rozkładu danych oraz na identyfikację ewentualnych anomalii lub nietypowych wartości. \n",
    "\n",
    "##### Wykonaj następujące obliczenia:"
   ],
   "id": "bfc6c228d9738b31"
  },
  {
   "metadata": {},
   "cell_type": "markdown",
   "source": "##### 3.1. średnia liczba nowych zachorowań, śmierci i szczepień dla co najmniej 10 wybranych krajów w wybranym miesiącu",
   "id": "f4ade9bf18db9e8f"
  },
  {
   "metadata": {
    "ExecuteTime": {
     "end_time": "2025-03-26T14:18:06.994646Z",
     "start_time": "2025-03-26T14:18:06.848229Z"
    }
   },
   "cell_type": "code",
   "source": [
    "selected_countries = ['Poland', 'Germany', 'Italy', 'France', 'Spain', 'United Kingdom', 'United States of America', 'Greece', 'Austria', 'Japan']\n",
    "selected_columns = ['new_confirmed', 'new_deceased', 'new_persons_vaccinated']\n",
    "selected_year = 2021\n",
    "selected_month = 3\n",
    "\n",
    "df['date'] = pd.to_datetime(df['date'])\n",
    "df_selected = df[(df['country_name'].isin(selected_countries)) & (df['date'].dt.year == selected_year) & (df['date'].dt.month == selected_month)]\n",
    "\n",
    "mean_values_per_country = df_selected.groupby('country_name')[selected_columns].mean()\n",
    "\n",
    "mean_values_per_country = mean_values_per_country.rename(columns={\n",
    "    'new_confirmed': 'new_confirmed_mean', \n",
    "    'new_deceased': 'new_deceased_mean', \n",
    "    'new_persons_vaccinated': 'new_persons_vaccinated_mean'\n",
    "})\n",
    "\n",
    "mean_values_per_country['new_persons_vaccinated_mean'] = mean_values_per_country['new_persons_vaccinated_mean'].round(3)\n",
    "print(mean_values_per_country.to_string())"
   ],
   "id": "c9009a9c5d7b0ff0",
   "outputs": [
    {
     "name": "stdout",
     "output_type": "stream",
     "text": [
      "                          new_confirmed_mean  new_deceased_mean  new_persons_vaccinated_mean\n",
      "country_name                                                                                \n",
      "Austria                          2811.741935          31.451613                    25854.839\n",
      "France                          28659.838710         297.161290                   184449.710\n",
      "Germany                         13254.645161         189.290323                   187529.323\n",
      "Greece                           2416.193548          52.451613                    19276.259\n",
      "Italy                           20909.677419         375.709677                   133815.516\n",
      "Japan                            1364.516129          41.096774                    36896.913\n",
      "Poland                          20777.161290         316.677419                    67051.935\n",
      "Spain                            5413.838710          96.580645                   130783.762\n",
      "United Kingdom                   5445.516129          95.838710                   350709.452\n",
      "United States of America        54007.290323         971.451613                  1694514.742\n"
     ]
    }
   ],
   "execution_count": 245
  },
  {
   "metadata": {},
   "cell_type": "markdown",
   "source": "##### 3.2. średnia zmiana liczby zachorowań, śmierci i szczepień dla co najmniej 10 wybranych krajów w wybranym miesiącu",
   "id": "f89037d4c27d8fe3"
  },
  {
   "metadata": {
    "ExecuteTime": {
     "end_time": "2025-03-26T14:18:07.003382Z",
     "start_time": "2025-03-26T14:18:06.994995Z"
    }
   },
   "cell_type": "code",
   "source": "",
   "id": "6c50ac30e227b6ad",
   "outputs": [],
   "execution_count": 245
  },
  {
   "metadata": {},
   "cell_type": "markdown",
   "source": "##### 3.3. mediana liczby nowych zachorowań, śmierci i szczepień dla co najmniej 10 wybranych krajów w wybranym miesiącu",
   "id": "b2ada143d4173bd"
  },
  {
   "metadata": {
    "ExecuteTime": {
     "end_time": "2025-03-26T14:18:07.011964Z",
     "start_time": "2025-03-26T14:18:07.006163Z"
    }
   },
   "cell_type": "code",
   "source": "",
   "id": "8874968072d1b85e",
   "outputs": [],
   "execution_count": 245
  },
  {
   "metadata": {},
   "cell_type": "markdown",
   "source": "##### 3.4. odchylenie standardowe liczby nowych zachorowań, śmierci i szczepień dla co najmniej 10 wybranych krajów w wybranym miesiącu",
   "id": "5332e1364bca98e3"
  },
  {
   "metadata": {
    "ExecuteTime": {
     "end_time": "2025-03-26T14:18:07.022366Z",
     "start_time": "2025-03-26T14:18:07.014727Z"
    }
   },
   "cell_type": "code",
   "source": "",
   "id": "94af8e3422166ff",
   "outputs": [],
   "execution_count": 245
  },
  {
   "metadata": {},
   "cell_type": "markdown",
   "source": "##### 3.5. minimalna, średnia i maksymalna liczba nowych zachorowań, szczepień i śmierci, a PKB co najmniej 10 wybranych krajów",
   "id": "8bdac0d91dac2dde"
  },
  {
   "metadata": {
    "ExecuteTime": {
     "end_time": "2025-03-26T14:18:07.035031Z",
     "start_time": "2025-03-26T14:18:07.025009Z"
    }
   },
   "cell_type": "code",
   "source": "",
   "id": "2d021ba07bb6f9f6",
   "outputs": [],
   "execution_count": 245
  },
  {
   "metadata": {},
   "cell_type": "markdown",
   "source": "##### 3.6. minimalna, średnia i maksymalna liczba nowych zachorowań, szczepień i śmierci, a populacja co najmniej 10 wybranych krajów.",
   "id": "c85ed42619bf7b7b"
  },
  {
   "metadata": {
    "ExecuteTime": {
     "end_time": "2025-03-26T14:18:07.043634Z",
     "start_time": "2025-03-26T14:18:07.035031Z"
    }
   },
   "cell_type": "code",
   "source": "",
   "id": "63dddb7aa9d798ac",
   "outputs": [],
   "execution_count": 245
  },
  {
   "metadata": {},
   "cell_type": "markdown",
   "source": "##### Przygotuj wykresy w celu porównania otrzymanych wyników. Pamiętaj o ich czytelności (typ wykresu, tytuł wykresu, podpisy osi, odpowiednie zakresy osi, itp.). Przeanalizuj otrzymane wizualizacje.",
   "id": "e1e48ec82a050b8c"
  },
  {
   "metadata": {
    "ExecuteTime": {
     "end_time": "2025-03-26T14:18:07.052082Z",
     "start_time": "2025-03-26T14:18:07.044713Z"
    }
   },
   "cell_type": "code",
   "source": "",
   "id": "401f233856db68bd",
   "outputs": [],
   "execution_count": 245
  },
  {
   "metadata": {},
   "cell_type": "markdown",
   "source": [
    "### Część 4\n",
    "\n",
    "##### Normalizacja danych polega na przeskalowaniu wartości zmiennych do określonego zakresu, np. [0, 1], co ułatwia porównanie różnych zmiennych między sobą.\n",
    "##### Wykonaj normalizację dla następujących przypadków:\n",
    "##### 4.1. liczba zachorowań na określoną przez Ciebie liczbę osób (np. na 1000 osób)"
   ],
   "id": "39a3ac89ab4b8f0f"
  },
  {
   "metadata": {
    "ExecuteTime": {
     "end_time": "2025-03-26T14:18:07.056701Z",
     "start_time": "2025-03-26T14:18:07.052082Z"
    }
   },
   "cell_type": "code",
   "source": "",
   "id": "618c500017fd5e46",
   "outputs": [],
   "execution_count": 245
  },
  {
   "metadata": {},
   "cell_type": "markdown",
   "source": "##### 4.2. liczba szczepień na określoną przez Ciebie liczbę osób (np. na 1000 osób)",
   "id": "d03741e027f8cc77"
  },
  {
   "metadata": {
    "ExecuteTime": {
     "end_time": "2025-03-26T14:18:07.065764Z",
     "start_time": "2025-03-26T14:18:07.056701Z"
    }
   },
   "cell_type": "code",
   "source": "",
   "id": "d254ed608269c76f",
   "outputs": [],
   "execution_count": 245
  },
  {
   "metadata": {},
   "cell_type": "markdown",
   "source": "##### 4.3. liczba zgonów na określoną przez Ciebie liczbę osób (np. na 1000 osób)",
   "id": "c41bf781a8805429"
  },
  {
   "metadata": {
    "ExecuteTime": {
     "end_time": "2025-03-26T14:18:07.072352Z",
     "start_time": "2025-03-26T14:18:07.065764Z"
    }
   },
   "cell_type": "code",
   "source": "",
   "id": "da28ac41acdc7656",
   "outputs": [],
   "execution_count": 245
  },
  {
   "metadata": {},
   "cell_type": "markdown",
   "source": "##### 4.4. co najmniej 4 dodatkowe, które uznasz za istotne",
   "id": "874ff601f6ba7b34"
  },
  {
   "metadata": {
    "ExecuteTime": {
     "end_time": "2025-03-26T14:18:07.080827Z",
     "start_time": "2025-03-26T14:18:07.075011Z"
    }
   },
   "cell_type": "code",
   "source": "",
   "id": "ab21daa3faf35cea",
   "outputs": [],
   "execution_count": 245
  },
  {
   "metadata": {},
   "cell_type": "markdown",
   "source": "##### Przygotuj wykresy w celu porównania otrzymanych wyników. Pamiętaj o ich czytelności (typ wykresu, tytuł wykresu, podpisy osi, odpowiednie zakresy osi, itp.). Przeanalizuj otrzymane wizualizacje.",
   "id": "98396732b39a1d0f"
  },
  {
   "metadata": {
    "ExecuteTime": {
     "end_time": "2025-03-26T14:18:07.089092Z",
     "start_time": "2025-03-26T14:18:07.080827Z"
    }
   },
   "cell_type": "code",
   "source": "",
   "id": "d5223f71f5635e97",
   "outputs": [],
   "execution_count": 245
  }
 ],
 "metadata": {
  "kernelspec": {
   "display_name": "Python 3",
   "language": "python",
   "name": "python3"
  },
  "language_info": {
   "codemirror_mode": {
    "name": "ipython",
    "version": 2
   },
   "file_extension": ".py",
   "mimetype": "text/x-python",
   "name": "python",
   "nbconvert_exporter": "python",
   "pygments_lexer": "ipython2",
   "version": "2.7.6"
  }
 },
 "nbformat": 4,
 "nbformat_minor": 5
}
