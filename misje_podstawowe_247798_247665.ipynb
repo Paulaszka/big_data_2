{
 "cells": [
  {
   "metadata": {},
   "cell_type": "markdown",
   "source": [
    "### Podstawy przetwarzania dużych zbiorów danych - poziom 2 misje podstawowe\n",
    "#### Paulina Szczepaniak 247798\n",
    "#### Jan Gluźniewicz 247665"
   ],
   "id": "91545eed9cc67db6"
  },
  {
   "cell_type": "code",
   "execution_count": null,
   "id": "initial_id",
   "metadata": {
    "collapsed": true
   },
   "outputs": [],
   "source": [
    "import os\n",
    "import pandas as pd\n",
    "from google.cloud import bigquery\n",
    "os.environ[\"GOOGLE_APPLICATION_CREDENTIALS\"]=\"parabolic-grid-453618-m7-59cc3720f769.json\" # lokalizacja pobranego klucza z punktu 1.4.\n",
    "client = bigquery.Client()"
   ]
  },
  {
   "metadata": {},
   "cell_type": "markdown",
   "source": [
    "### Część 1\n",
    "\n",
    "##### Wartości odstające to wartości, które różnią się znacząco od większości danych w zbiorze. Mogą one wpłynąć na analizę danych, szczególnie na statystyki opisowe, takie jak średnia czy mediana. \n",
    "\n",
    "##### Pamiętaj o czytelności wykresów (tytuł wykresu, podpisy osi, odpowiednie zakresy osi, itp.). Przeanalizuj otrzymane wizualizacje. \n",
    "\n",
    "##### Wykonaj wykresy pudełkowe (ang.box plot), które pozwolą na graficzną identyfikację wartości odstających poprzez przedstawienie kwartyli i wartości skrajnych w danych dotyczących:"
   ],
   "id": "b1ddb08481db4fc7"
  },
  {
   "metadata": {},
   "cell_type": "code",
   "outputs": [],
   "execution_count": null,
   "source": "",
   "id": "97bb04d647582758"
  },
  {
   "metadata": {},
   "cell_type": "markdown",
   "source": "##### 1.1. liczby nowych zachorowań",
   "id": "5bd43ff3509de507"
  },
  {
   "metadata": {},
   "cell_type": "code",
   "outputs": [],
   "execution_count": null,
   "source": "",
   "id": "a46e390c17faa894"
  },
  {
   "metadata": {},
   "cell_type": "markdown",
   "source": "##### 1.2. liczby nowych śmierci",
   "id": "d47cdfa94c46038d"
  },
  {
   "metadata": {},
   "cell_type": "code",
   "outputs": [],
   "execution_count": null,
   "source": "",
   "id": "1e814b8a2e6f02ba"
  },
  {
   "metadata": {},
   "cell_type": "markdown",
   "source": "##### 1.3. liczby nowych szczepień",
   "id": "494a12c45d66cae"
  },
  {
   "metadata": {},
   "cell_type": "code",
   "outputs": [],
   "execution_count": null,
   "source": "",
   "id": "d8fb791878f63240"
  },
  {
   "metadata": {},
   "cell_type": "markdown",
   "source": "##### 1.4. populacji",
   "id": "2a2acf15fcbfd29c"
  },
  {
   "metadata": {},
   "cell_type": "code",
   "outputs": [],
   "execution_count": null,
   "source": "",
   "id": "d8cdb6fd889a4919"
  },
  {
   "metadata": {},
   "cell_type": "markdown",
   "source": "##### 1.5. PKB",
   "id": "5c4b5f8a7abeefcd"
  },
  {
   "metadata": {},
   "cell_type": "code",
   "outputs": [],
   "execution_count": null,
   "source": "",
   "id": "ef4af96779cd9ad7"
  },
  {
   "metadata": {},
   "cell_type": "markdown",
   "source": "##### 1.6. 4 innych różnych informacji, które uznasz za istotne",
   "id": "31f264481c3f0e9b"
  },
  {
   "metadata": {},
   "cell_type": "code",
   "outputs": [],
   "execution_count": null,
   "source": "",
   "id": "a712f54ed85df18e"
  },
  {
   "metadata": {},
   "cell_type": "markdown",
   "source": [
    "### Część 3\n",
    "\n",
    "##### Obliczenia statystyczne (m.in. średnia, mediana, moda, odchylenie standardowe) pozwolają na zrozumienie rozkładu danych oraz na identyfikację ewentualnych anomalii lub nietypowych wartości. \n",
    "\n",
    "##### Wykonaj następujące obliczenia:"
   ],
   "id": "bfc6c228d9738b31"
  },
  {
   "metadata": {},
   "cell_type": "markdown",
   "source": "##### 3.1. średnia liczba nowych zachorowań, śmierci i szczepień dla co najmniej 10 wybranych krajów w wybranym miesiącu",
   "id": "f4ade9bf18db9e8f"
  },
  {
   "metadata": {},
   "cell_type": "code",
   "outputs": [],
   "execution_count": null,
   "source": "",
   "id": "c9009a9c5d7b0ff0"
  },
  {
   "metadata": {},
   "cell_type": "markdown",
   "source": "##### 3.2. średnia zmiana liczby zachorowań, śmierci i szczepień dla co najmniej 10 wybranych krajów w wybranym miesiącu",
   "id": "f89037d4c27d8fe3"
  },
  {
   "metadata": {},
   "cell_type": "code",
   "outputs": [],
   "execution_count": null,
   "source": "",
   "id": "6c50ac30e227b6ad"
  },
  {
   "metadata": {},
   "cell_type": "markdown",
   "source": "##### 3.3. mediana liczby nowych zachorowań, śmierci i szczepień dla co najmniej 10 wybranych krajów w wybranym miesiącu",
   "id": "b2ada143d4173bd"
  },
  {
   "metadata": {},
   "cell_type": "code",
   "outputs": [],
   "execution_count": null,
   "source": "",
   "id": "8874968072d1b85e"
  },
  {
   "metadata": {},
   "cell_type": "markdown",
   "source": "##### 3.4. odchylenie standardowe liczby nowych zachorowań, śmierci i szczepień dla co najmniej 10 wybranych krajów w wybranym miesiącu",
   "id": "5332e1364bca98e3"
  },
  {
   "metadata": {},
   "cell_type": "code",
   "outputs": [],
   "execution_count": null,
   "source": "",
   "id": "94af8e3422166ff"
  },
  {
   "metadata": {},
   "cell_type": "markdown",
   "source": "##### 3.5. minimalna, średnia i maksymalna liczba nowych zachorowań, szczepień i śmierci, a PKB co najmniej 10 wybranych krajów",
   "id": "8bdac0d91dac2dde"
  },
  {
   "metadata": {},
   "cell_type": "code",
   "outputs": [],
   "execution_count": null,
   "source": "",
   "id": "2d021ba07bb6f9f6"
  },
  {
   "metadata": {},
   "cell_type": "markdown",
   "source": "##### 3.6. minimalna, średnia i maksymalna liczba nowych zachorowań, szczepień i śmierci, a populacja co najmniej 10 wybranych krajów.",
   "id": "c85ed42619bf7b7b"
  },
  {
   "metadata": {},
   "cell_type": "code",
   "outputs": [],
   "execution_count": null,
   "source": "",
   "id": "63dddb7aa9d798ac"
  },
  {
   "metadata": {},
   "cell_type": "markdown",
   "source": "##### Przygotuj wykresy w celu porównania otrzymanych wyników. Pamiętaj o ich czytelności (typ wykresu, tytuł wykresu, podpisy osi, odpowiednie zakresy osi, itp.). Przeanalizuj otrzymane wizualizacje.",
   "id": "e1e48ec82a050b8c"
  },
  {
   "metadata": {},
   "cell_type": "code",
   "outputs": [],
   "execution_count": null,
   "source": "",
   "id": "401f233856db68bd"
  },
  {
   "metadata": {},
   "cell_type": "markdown",
   "source": [
    "### Część 4\n",
    "\n",
    "##### Normalizacja danych polega na przeskalowaniu wartości zmiennych do określonego zakresu, np. [0, 1], co ułatwia porównanie różnych zmiennych między sobą.\n",
    "##### Wykonaj normalizację dla następujących przypadków:\n",
    "##### 4.1. liczba zachorowań na określoną przez Ciebie liczbę osób (np. na 1000 osób)"
   ],
   "id": "39a3ac89ab4b8f0f"
  },
  {
   "metadata": {},
   "cell_type": "code",
   "outputs": [],
   "execution_count": null,
   "source": "",
   "id": "618c500017fd5e46"
  },
  {
   "metadata": {},
   "cell_type": "markdown",
   "source": "##### 4.2. liczba szczepień na określoną przez Ciebie liczbę osób (np. na 1000 osób)",
   "id": "d03741e027f8cc77"
  },
  {
   "metadata": {},
   "cell_type": "code",
   "outputs": [],
   "execution_count": null,
   "source": "",
   "id": "d254ed608269c76f"
  },
  {
   "metadata": {},
   "cell_type": "markdown",
   "source": "##### 4.3. liczba zgonów na określoną przez Ciebie liczbę osób (np. na 1000 osób)",
   "id": "c41bf781a8805429"
  },
  {
   "metadata": {},
   "cell_type": "code",
   "outputs": [],
   "execution_count": null,
   "source": "",
   "id": "da28ac41acdc7656"
  },
  {
   "metadata": {},
   "cell_type": "markdown",
   "source": "##### 4.4. co najmniej 4 dodatkowe, które uznasz za istotne",
   "id": "874ff601f6ba7b34"
  },
  {
   "metadata": {},
   "cell_type": "code",
   "outputs": [],
   "execution_count": null,
   "source": "",
   "id": "ab21daa3faf35cea"
  },
  {
   "metadata": {},
   "cell_type": "markdown",
   "source": "##### Przygotuj wykresy w celu porównania otrzymanych wyników. Pamiętaj o ich czytelności (typ wykresu, tytuł wykresu, podpisy osi, odpowiednie zakresy osi, itp.). Przeanalizuj otrzymane wizualizacje.",
   "id": "98396732b39a1d0f"
  },
  {
   "metadata": {},
   "cell_type": "code",
   "outputs": [],
   "execution_count": null,
   "source": "",
   "id": "d5223f71f5635e97"
  }
 ],
 "metadata": {
  "kernelspec": {
   "display_name": "Python 3",
   "language": "python",
   "name": "python3"
  },
  "language_info": {
   "codemirror_mode": {
    "name": "ipython",
    "version": 2
   },
   "file_extension": ".py",
   "mimetype": "text/x-python",
   "name": "python",
   "nbconvert_exporter": "python",
   "pygments_lexer": "ipython2",
   "version": "2.7.6"
  }
 },
 "nbformat": 4,
 "nbformat_minor": 5
}
