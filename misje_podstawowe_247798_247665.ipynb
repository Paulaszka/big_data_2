{
 "cells": [
  {
   "metadata": {},
   "cell_type": "markdown",
   "source": [
    "### Podstawy przetwarzania dużych zbiorów danych - poziom 2 misje podstawowe\n",
    "#### Paulina Szczepaniak 247798\n",
    "#### Jan Gluźniewicz 247665"
   ],
   "id": "91545eed9cc67db6"
  },
  {
   "metadata": {
    "ExecuteTime": {
     "end_time": "2025-03-27T17:58:49.188767Z",
     "start_time": "2025-03-27T17:58:49.184433Z"
    }
   },
   "cell_type": "code",
   "source": [
    "import pandas as pd\n",
    "import numpy as np\n",
    "import matplotlib.pyplot as plt\n",
    "import seaborn as sns"
   ],
   "id": "e7f03d032bc654eb",
   "outputs": [],
   "execution_count": 1
  },
  {
   "metadata": {
    "ExecuteTime": {
     "end_time": "2025-03-27T17:58:50.072451Z",
     "start_time": "2025-03-27T17:58:49.188767Z"
    }
   },
   "cell_type": "code",
   "source": [
    "df = pd.read_csv('df_merged_world_countries.csv')\n",
    "df"
   ],
   "id": "69d13c42c553f0e7",
   "outputs": [
    {
     "data": {
      "text/plain": [
       "                    country_name location_key country_code  population  \\\n",
       "0                      Australia           AU          AUS    25499881   \n",
       "1                   South Africa           ZA          ZAF    59308690   \n",
       "2                           Peru           PE          PER    29381884   \n",
       "3       United States of America           US          USA   331002647   \n",
       "4                       Ethiopia           ET          ETH   114963583   \n",
       "...                          ...          ...          ...         ...   \n",
       "227925                   Croatia           HR          HRV     4076246   \n",
       "227926                   Austria           AT          AUT     8858775   \n",
       "227927                 Argentina           AR          ARG    44938712   \n",
       "227928                    Sweden           SE          SWE    10230185   \n",
       "227929                   Belarus           BY          BLR     9449321   \n",
       "\n",
       "             gdp_usd  area_sq_km        date  new_confirmed  \\\n",
       "0       1.392681e+12     7741220  2022-01-18        72860.0   \n",
       "1       3.514316e+11     1219090  2022-01-02         3076.0   \n",
       "2       2.268481e+11     1285220  2021-03-30        10539.0   \n",
       "3       2.137442e+13     9831510  2021-09-08       167791.0   \n",
       "4       9.610766e+10     1104300  2021-11-10          459.0   \n",
       "...              ...         ...         ...            ...   \n",
       "227925  6.091759e+10       56590  2022-08-28           59.0   \n",
       "227926  4.551400e+11       83879  2022-07-27         9019.0   \n",
       "227927  4.496634e+11     2780400  2021-10-10          382.0   \n",
       "227928  5.560253e+11      447430  2021-03-16         6786.0   \n",
       "227929  6.308046e+10      207600  2022-01-02          507.0   \n",
       "\n",
       "        cumulative_confirmed  new_deceased  ...  area_sq_km_2  density_sq_km  \\\n",
       "0                  1836671.0          78.0  ...       7692024         3.4032   \n",
       "1                  3475512.0          84.0  ...       1221037        49.0517   \n",
       "2                  1577076.0         748.0  ...       1285216        26.4933   \n",
       "3                 39489769.0        2068.0  ...       9372610        36.0935   \n",
       "4                   368106.0          22.0  ...       1104300       111.7268   \n",
       "...                      ...           ...  ...           ...            ...   \n",
       "227925             1211979.0          15.0  ...         56594        71.2153   \n",
       "227926             4756351.0          15.0  ...         83871       106.5877   \n",
       "227927             5289547.0          15.0  ...       2780400        16.3683   \n",
       "227928              731890.0          15.0  ...        450295        23.4276   \n",
       "227929              701699.0          15.0  ...        207600        45.9295   \n",
       "\n",
       "        growth_rate  world_population_percentage   gdp_in_1995   gdp_in_2000  \\\n",
       "0            1.0099                         0.33  3.683917e+11  4.154462e+11   \n",
       "1            1.0084                         0.75  1.554603e+11  1.363619e+11   \n",
       "2            1.0099                         0.43  5.331279e+10  5.174475e+10   \n",
       "3            1.0038                         4.24  7.664060e+12  1.028478e+13   \n",
       "4            1.0257                         1.55  7.663985e+09  8.242392e+09   \n",
       "...             ...                          ...           ...           ...   \n",
       "227925       0.9927                         0.05  2.238756e+10  2.177427e+10   \n",
       "227926       1.0020                         0.11  2.410383e+11  1.967998e+11   \n",
       "227927       1.0052                         0.57  2.580318e+11  2.842038e+11   \n",
       "227928       1.0079                         0.13  2.640520e+11  2.598020e+11   \n",
       "227929       0.9955                         0.12  1.397263e+10  1.273686e+10   \n",
       "\n",
       "         gdp_in_2005   gdp_in_2010   gdp_in_2015   gdp_in_2016  \n",
       "0       6.937641e+11  1.142877e+12  1.345383e+12  1.204616e+12  \n",
       "1       2.576714e+11  3.752981e+11  3.176107e+11  2.954562e+11  \n",
       "2       7.606061e+10  1.475289e+11  1.892121e+11  1.922073e+11  \n",
       "3       1.309373e+13  1.496437e+13  1.812071e+13  1.862448e+13  \n",
       "4       1.240114e+10  2.993379e+10  6.446455e+10  7.237422e+10  \n",
       "...              ...           ...           ...           ...  \n",
       "227925  4.541636e+10  5.966543e+10  4.892188e+10  5.071496e+10  \n",
       "227926  3.159744e+11  3.918927e+11  3.820659e+11  3.908000e+11  \n",
       "227927  1.987371e+11  4.236274e+11  5.847115e+11  5.454761e+11  \n",
       "227928  3.890423e+11  4.883777e+11  4.979181e+11  5.144600e+11  \n",
       "227929  3.021009e+10  5.722249e+10  5.645473e+10  4.740722e+10  \n",
       "\n",
       "[227930 rows x 37 columns]"
      ],
      "text/html": [
       "<div>\n",
       "<style scoped>\n",
       "    .dataframe tbody tr th:only-of-type {\n",
       "        vertical-align: middle;\n",
       "    }\n",
       "\n",
       "    .dataframe tbody tr th {\n",
       "        vertical-align: top;\n",
       "    }\n",
       "\n",
       "    .dataframe thead th {\n",
       "        text-align: right;\n",
       "    }\n",
       "</style>\n",
       "<table border=\"1\" class=\"dataframe\">\n",
       "  <thead>\n",
       "    <tr style=\"text-align: right;\">\n",
       "      <th></th>\n",
       "      <th>country_name</th>\n",
       "      <th>location_key</th>\n",
       "      <th>country_code</th>\n",
       "      <th>population</th>\n",
       "      <th>gdp_usd</th>\n",
       "      <th>area_sq_km</th>\n",
       "      <th>date</th>\n",
       "      <th>new_confirmed</th>\n",
       "      <th>cumulative_confirmed</th>\n",
       "      <th>new_deceased</th>\n",
       "      <th>...</th>\n",
       "      <th>area_sq_km_2</th>\n",
       "      <th>density_sq_km</th>\n",
       "      <th>growth_rate</th>\n",
       "      <th>world_population_percentage</th>\n",
       "      <th>gdp_in_1995</th>\n",
       "      <th>gdp_in_2000</th>\n",
       "      <th>gdp_in_2005</th>\n",
       "      <th>gdp_in_2010</th>\n",
       "      <th>gdp_in_2015</th>\n",
       "      <th>gdp_in_2016</th>\n",
       "    </tr>\n",
       "  </thead>\n",
       "  <tbody>\n",
       "    <tr>\n",
       "      <th>0</th>\n",
       "      <td>Australia</td>\n",
       "      <td>AU</td>\n",
       "      <td>AUS</td>\n",
       "      <td>25499881</td>\n",
       "      <td>1.392681e+12</td>\n",
       "      <td>7741220</td>\n",
       "      <td>2022-01-18</td>\n",
       "      <td>72860.0</td>\n",
       "      <td>1836671.0</td>\n",
       "      <td>78.0</td>\n",
       "      <td>...</td>\n",
       "      <td>7692024</td>\n",
       "      <td>3.4032</td>\n",
       "      <td>1.0099</td>\n",
       "      <td>0.33</td>\n",
       "      <td>3.683917e+11</td>\n",
       "      <td>4.154462e+11</td>\n",
       "      <td>6.937641e+11</td>\n",
       "      <td>1.142877e+12</td>\n",
       "      <td>1.345383e+12</td>\n",
       "      <td>1.204616e+12</td>\n",
       "    </tr>\n",
       "    <tr>\n",
       "      <th>1</th>\n",
       "      <td>South Africa</td>\n",
       "      <td>ZA</td>\n",
       "      <td>ZAF</td>\n",
       "      <td>59308690</td>\n",
       "      <td>3.514316e+11</td>\n",
       "      <td>1219090</td>\n",
       "      <td>2022-01-02</td>\n",
       "      <td>3076.0</td>\n",
       "      <td>3475512.0</td>\n",
       "      <td>84.0</td>\n",
       "      <td>...</td>\n",
       "      <td>1221037</td>\n",
       "      <td>49.0517</td>\n",
       "      <td>1.0084</td>\n",
       "      <td>0.75</td>\n",
       "      <td>1.554603e+11</td>\n",
       "      <td>1.363619e+11</td>\n",
       "      <td>2.576714e+11</td>\n",
       "      <td>3.752981e+11</td>\n",
       "      <td>3.176107e+11</td>\n",
       "      <td>2.954562e+11</td>\n",
       "    </tr>\n",
       "    <tr>\n",
       "      <th>2</th>\n",
       "      <td>Peru</td>\n",
       "      <td>PE</td>\n",
       "      <td>PER</td>\n",
       "      <td>29381884</td>\n",
       "      <td>2.268481e+11</td>\n",
       "      <td>1285220</td>\n",
       "      <td>2021-03-30</td>\n",
       "      <td>10539.0</td>\n",
       "      <td>1577076.0</td>\n",
       "      <td>748.0</td>\n",
       "      <td>...</td>\n",
       "      <td>1285216</td>\n",
       "      <td>26.4933</td>\n",
       "      <td>1.0099</td>\n",
       "      <td>0.43</td>\n",
       "      <td>5.331279e+10</td>\n",
       "      <td>5.174475e+10</td>\n",
       "      <td>7.606061e+10</td>\n",
       "      <td>1.475289e+11</td>\n",
       "      <td>1.892121e+11</td>\n",
       "      <td>1.922073e+11</td>\n",
       "    </tr>\n",
       "    <tr>\n",
       "      <th>3</th>\n",
       "      <td>United States of America</td>\n",
       "      <td>US</td>\n",
       "      <td>USA</td>\n",
       "      <td>331002647</td>\n",
       "      <td>2.137442e+13</td>\n",
       "      <td>9831510</td>\n",
       "      <td>2021-09-08</td>\n",
       "      <td>167791.0</td>\n",
       "      <td>39489769.0</td>\n",
       "      <td>2068.0</td>\n",
       "      <td>...</td>\n",
       "      <td>9372610</td>\n",
       "      <td>36.0935</td>\n",
       "      <td>1.0038</td>\n",
       "      <td>4.24</td>\n",
       "      <td>7.664060e+12</td>\n",
       "      <td>1.028478e+13</td>\n",
       "      <td>1.309373e+13</td>\n",
       "      <td>1.496437e+13</td>\n",
       "      <td>1.812071e+13</td>\n",
       "      <td>1.862448e+13</td>\n",
       "    </tr>\n",
       "    <tr>\n",
       "      <th>4</th>\n",
       "      <td>Ethiopia</td>\n",
       "      <td>ET</td>\n",
       "      <td>ETH</td>\n",
       "      <td>114963583</td>\n",
       "      <td>9.610766e+10</td>\n",
       "      <td>1104300</td>\n",
       "      <td>2021-11-10</td>\n",
       "      <td>459.0</td>\n",
       "      <td>368106.0</td>\n",
       "      <td>22.0</td>\n",
       "      <td>...</td>\n",
       "      <td>1104300</td>\n",
       "      <td>111.7268</td>\n",
       "      <td>1.0257</td>\n",
       "      <td>1.55</td>\n",
       "      <td>7.663985e+09</td>\n",
       "      <td>8.242392e+09</td>\n",
       "      <td>1.240114e+10</td>\n",
       "      <td>2.993379e+10</td>\n",
       "      <td>6.446455e+10</td>\n",
       "      <td>7.237422e+10</td>\n",
       "    </tr>\n",
       "    <tr>\n",
       "      <th>...</th>\n",
       "      <td>...</td>\n",
       "      <td>...</td>\n",
       "      <td>...</td>\n",
       "      <td>...</td>\n",
       "      <td>...</td>\n",
       "      <td>...</td>\n",
       "      <td>...</td>\n",
       "      <td>...</td>\n",
       "      <td>...</td>\n",
       "      <td>...</td>\n",
       "      <td>...</td>\n",
       "      <td>...</td>\n",
       "      <td>...</td>\n",
       "      <td>...</td>\n",
       "      <td>...</td>\n",
       "      <td>...</td>\n",
       "      <td>...</td>\n",
       "      <td>...</td>\n",
       "      <td>...</td>\n",
       "      <td>...</td>\n",
       "      <td>...</td>\n",
       "    </tr>\n",
       "    <tr>\n",
       "      <th>227925</th>\n",
       "      <td>Croatia</td>\n",
       "      <td>HR</td>\n",
       "      <td>HRV</td>\n",
       "      <td>4076246</td>\n",
       "      <td>6.091759e+10</td>\n",
       "      <td>56590</td>\n",
       "      <td>2022-08-28</td>\n",
       "      <td>59.0</td>\n",
       "      <td>1211979.0</td>\n",
       "      <td>15.0</td>\n",
       "      <td>...</td>\n",
       "      <td>56594</td>\n",
       "      <td>71.2153</td>\n",
       "      <td>0.9927</td>\n",
       "      <td>0.05</td>\n",
       "      <td>2.238756e+10</td>\n",
       "      <td>2.177427e+10</td>\n",
       "      <td>4.541636e+10</td>\n",
       "      <td>5.966543e+10</td>\n",
       "      <td>4.892188e+10</td>\n",
       "      <td>5.071496e+10</td>\n",
       "    </tr>\n",
       "    <tr>\n",
       "      <th>227926</th>\n",
       "      <td>Austria</td>\n",
       "      <td>AT</td>\n",
       "      <td>AUT</td>\n",
       "      <td>8858775</td>\n",
       "      <td>4.551400e+11</td>\n",
       "      <td>83879</td>\n",
       "      <td>2022-07-27</td>\n",
       "      <td>9019.0</td>\n",
       "      <td>4756351.0</td>\n",
       "      <td>15.0</td>\n",
       "      <td>...</td>\n",
       "      <td>83871</td>\n",
       "      <td>106.5877</td>\n",
       "      <td>1.0020</td>\n",
       "      <td>0.11</td>\n",
       "      <td>2.410383e+11</td>\n",
       "      <td>1.967998e+11</td>\n",
       "      <td>3.159744e+11</td>\n",
       "      <td>3.918927e+11</td>\n",
       "      <td>3.820659e+11</td>\n",
       "      <td>3.908000e+11</td>\n",
       "    </tr>\n",
       "    <tr>\n",
       "      <th>227927</th>\n",
       "      <td>Argentina</td>\n",
       "      <td>AR</td>\n",
       "      <td>ARG</td>\n",
       "      <td>44938712</td>\n",
       "      <td>4.496634e+11</td>\n",
       "      <td>2780400</td>\n",
       "      <td>2021-10-10</td>\n",
       "      <td>382.0</td>\n",
       "      <td>5289547.0</td>\n",
       "      <td>15.0</td>\n",
       "      <td>...</td>\n",
       "      <td>2780400</td>\n",
       "      <td>16.3683</td>\n",
       "      <td>1.0052</td>\n",
       "      <td>0.57</td>\n",
       "      <td>2.580318e+11</td>\n",
       "      <td>2.842038e+11</td>\n",
       "      <td>1.987371e+11</td>\n",
       "      <td>4.236274e+11</td>\n",
       "      <td>5.847115e+11</td>\n",
       "      <td>5.454761e+11</td>\n",
       "    </tr>\n",
       "    <tr>\n",
       "      <th>227928</th>\n",
       "      <td>Sweden</td>\n",
       "      <td>SE</td>\n",
       "      <td>SWE</td>\n",
       "      <td>10230185</td>\n",
       "      <td>5.560253e+11</td>\n",
       "      <td>447430</td>\n",
       "      <td>2021-03-16</td>\n",
       "      <td>6786.0</td>\n",
       "      <td>731890.0</td>\n",
       "      <td>15.0</td>\n",
       "      <td>...</td>\n",
       "      <td>450295</td>\n",
       "      <td>23.4276</td>\n",
       "      <td>1.0079</td>\n",
       "      <td>0.13</td>\n",
       "      <td>2.640520e+11</td>\n",
       "      <td>2.598020e+11</td>\n",
       "      <td>3.890423e+11</td>\n",
       "      <td>4.883777e+11</td>\n",
       "      <td>4.979181e+11</td>\n",
       "      <td>5.144600e+11</td>\n",
       "    </tr>\n",
       "    <tr>\n",
       "      <th>227929</th>\n",
       "      <td>Belarus</td>\n",
       "      <td>BY</td>\n",
       "      <td>BLR</td>\n",
       "      <td>9449321</td>\n",
       "      <td>6.308046e+10</td>\n",
       "      <td>207600</td>\n",
       "      <td>2022-01-02</td>\n",
       "      <td>507.0</td>\n",
       "      <td>701699.0</td>\n",
       "      <td>15.0</td>\n",
       "      <td>...</td>\n",
       "      <td>207600</td>\n",
       "      <td>45.9295</td>\n",
       "      <td>0.9955</td>\n",
       "      <td>0.12</td>\n",
       "      <td>1.397263e+10</td>\n",
       "      <td>1.273686e+10</td>\n",
       "      <td>3.021009e+10</td>\n",
       "      <td>5.722249e+10</td>\n",
       "      <td>5.645473e+10</td>\n",
       "      <td>4.740722e+10</td>\n",
       "    </tr>\n",
       "  </tbody>\n",
       "</table>\n",
       "<p>227930 rows × 37 columns</p>\n",
       "</div>"
      ]
     },
     "execution_count": 2,
     "metadata": {},
     "output_type": "execute_result"
    }
   ],
   "execution_count": 2
  },
  {
   "metadata": {
    "ExecuteTime": {
     "end_time": "2025-03-27T17:58:50.077862Z",
     "start_time": "2025-03-27T17:58:50.072451Z"
    }
   },
   "cell_type": "code",
   "source": [
    "kolumny = df.columns.tolist()  # Pobranie listy kolumn\n",
    "\n",
    "print(kolumny)"
   ],
   "id": "f506bd4ceaefdd3a",
   "outputs": [
    {
     "name": "stdout",
     "output_type": "stream",
     "text": [
      "['country_name', 'location_key', 'country_code', 'population', 'gdp_usd', 'area_sq_km', 'date', 'new_confirmed', 'cumulative_confirmed', 'new_deceased', 'cumulative_deceased', 'new_persons_vaccinated', 'cumulative_persons_vaccinated', 'new_tested', 'cumulative_tested', 'rank', 'country_territory_name', 'capital', 'continent', '2022_population', '2020_population', '2015_population', '2010_population', '2000_population', '1990_population', '1980_population', '1970_population', 'area_sq_km_2', 'density_sq_km', 'growth_rate', 'world_population_percentage', 'gdp_in_1995', 'gdp_in_2000', 'gdp_in_2005', 'gdp_in_2010', 'gdp_in_2015', 'gdp_in_2016']\n"
     ]
    }
   ],
   "execution_count": 3
  },
  {
   "metadata": {},
   "cell_type": "markdown",
   "source": [
    "### Część 1\n",
    "\n",
    "##### Wartości odstające to wartości, które różnią się znacząco od większości danych w zbiorze. Mogą one wpłynąć na analizę danych, szczególnie na statystyki opisowe, takie jak średnia czy mediana. \n",
    "\n",
    "##### Pamiętaj o czytelności wykresów (tytuł wykresu, podpisy osi, odpowiednie zakresy osi, itp.). Przeanalizuj otrzymane wizualizacje. \n",
    "\n",
    "##### Wykonaj wykresy pudełkowe (ang.box plot), które pozwolą na graficzną identyfikację wartości odstających poprzez przedstawienie kwartyli i wartości skrajnych w danych dotyczących:"
   ],
   "id": "b1ddb08481db4fc7"
  },
  {
   "metadata": {},
   "cell_type": "markdown",
   "source": "##### 1.1. liczby nowych zachorowań",
   "id": "5bd43ff3509de507"
  },
  {
   "metadata": {
    "ExecuteTime": {
     "end_time": "2025-03-27T17:58:51.011614Z",
     "start_time": "2025-03-27T17:58:50.077862Z"
    }
   },
   "cell_type": "code",
   "source": [
    "plt.figure(figsize=(14, 3))\n",
    "sns.boxplot(x=df['new_confirmed'], notch=True, showcaps=False, flierprops={\"marker\": \"x\"}, boxprops={\"facecolor\": \"mediumpurple\", \"alpha\": 0.7}, medianprops={\"color\": \"indigo\", \"linewidth\": 2})\n",
    "plt.title(f\"Boxplot for column new_confirmed\")\n",
    "plt.xlabel(\"Wartości\")\n",
    "plt.xlim(df['new_confirmed'].min() * 0.8, df['new_confirmed'].max() * 1.2)\n",
    "plt.grid(True)\n",
    "plt.xscale(\"symlog\")\n",
    "plt.show()"
   ],
   "id": "a46e390c17faa894",
   "outputs": [
    {
     "data": {
      "text/plain": [
       "<Figure size 1400x300 with 1 Axes>"
      ],
      "image/png": "[encoded data removed]"
     },
     "metadata": {},
     "output_type": "display_data"
    }
   ],
   "execution_count": 4
  },
  {
   "metadata": {},
   "cell_type": "markdown",
   "source": "##### 1.2. liczby nowych śmierci",
   "id": "d47cdfa94c46038d"
  },
  {
   "metadata": {
    "ExecuteTime": {
     "end_time": "2025-03-27T17:58:51.710754Z",
     "start_time": "2025-03-27T17:58:51.011614Z"
    }
   },
   "cell_type": "code",
   "source": [
    "plt.figure(figsize=(14, 3))\n",
    "sns.boxplot(x=df['new_deceased'], notch=True, showcaps=True, flierprops={\"marker\": \"x\"}, boxprops={\"facecolor\": \"mediumpurple\", \"alpha\": 0.7}, medianprops={\"color\": \"indigo\", \"linewidth\": 2})\n",
    "plt.title(f\"Boxplot for column new_deceased\")\n",
    "plt.xlabel(\"Wartości\")\n",
    "plt.xlim(df['new_deceased'].min() * 0.8, df['new_deceased'].max() * 1.2)\n",
    "plt.grid(True)\n",
    "plt.xscale(\"symlog\")\n",
    "plt.show()"
   ],
   "id": "1e814b8a2e6f02ba",
   "outputs": [
    {
     "data": {
      "text/plain": [
       "<Figure size 1400x300 with 1 Axes>"
      ],
      "image/png": "[encoded data removed]"
     },
     "metadata": {},
     "output_type": "display_data"
    }
   ],
   "execution_count": 5
  },
  {
   "metadata": {},
   "cell_type": "markdown",
   "source": "##### 1.3. liczby nowych szczepień",
   "id": "494a12c45d66cae"
  },
  {
   "metadata": {
    "ExecuteTime": {
     "end_time": "2025-03-27T17:58:52.386883Z",
     "start_time": "2025-03-27T17:58:51.710754Z"
    }
   },
   "cell_type": "code",
   "source": [
    "plt.figure(figsize=(14, 3))\n",
    "sns.boxplot(x=df['new_persons_vaccinated'], notch=True, showcaps=True, flierprops={\"marker\": \"x\"}, boxprops={\"facecolor\": \"mediumpurple\", \"alpha\": 0.7}, medianprops={\"color\": \"indigo\", \"linewidth\": 2})\n",
    "plt.title(f\"Boxplot for column new_persons_vaccinated\")\n",
    "plt.xlabel(\"Wartości\")\n",
    "plt.xlim(df['new_persons_vaccinated'].min() * 0.8, df['new_persons_vaccinated'].max() * 1.2)\n",
    "plt.grid(True)\n",
    "plt.xscale(\"symlog\")\n",
    "plt.show()"
   ],
   "id": "d8fb791878f63240",
   "outputs": [
    {
     "data": {
      "text/plain": [
       "<Figure size 1400x300 with 1 Axes>"
      ],
      "image/png": "[encoded data removed]"
     },
     "metadata": {},
     "output_type": "display_data"
    }
   ],
   "execution_count": 6
  },
  {
   "metadata": {},
   "cell_type": "markdown",
   "source": "##### 1.4. populacji",
   "id": "2a2acf15fcbfd29c"
  },
  {
   "metadata": {
    "ExecuteTime": {
     "end_time": "2025-03-27T17:58:53.055283Z",
     "start_time": "2025-03-27T17:58:52.388902Z"
    }
   },
   "cell_type": "code",
   "source": [
    "plt.figure(figsize=(14, 3))\n",
    "sns.boxplot(x=df['population'], notch=True, showcaps=True, flierprops={\"marker\": \"x\"}, boxprops={\"facecolor\": \"mediumpurple\", \"alpha\": 0.7}, medianprops={\"color\": \"indigo\", \"linewidth\": 2})\n",
    "plt.title(f\"Boxplot for column population\")\n",
    "plt.xlabel(\"Wartości\")\n",
    "plt.xlim(df['population'].min() * 0.8, df['population'].max() * 1.2)\n",
    "plt.grid(True)\n",
    "plt.xscale(\"symlog\")\n",
    "plt.show()"
   ],
   "id": "d8cdb6fd889a4919",
   "outputs": [
    {
     "data": {
      "text/plain": [
       "<Figure size 1400x300 with 1 Axes>"
      ],
      "image/png": "[encoded data removed]"
     },
     "metadata": {},
     "output_type": "display_data"
    }
   ],
   "execution_count": 7
  },
  {
   "metadata": {},
   "cell_type": "markdown",
   "source": "##### 1.5. PKB",
   "id": "5c4b5f8a7abeefcd"
  },
  {
   "metadata": {
    "ExecuteTime": {
     "end_time": "2025-03-27T17:58:53.752874Z",
     "start_time": "2025-03-27T17:58:53.057864Z"
    }
   },
   "cell_type": "code",
   "source": [
    "plt.figure(figsize=(14, 3))\n",
    "sns.boxplot(x=df['gdp_usd'], notch=True, showcaps=True, flierprops={\"marker\": \"x\"}, boxprops={\"facecolor\": \"mediumpurple\", \"alpha\": 0.7}, medianprops={\"color\": \"indigo\", \"linewidth\": 2})\n",
    "plt.title(f\"Boxplot for column gdp_usd\")\n",
    "plt.xlabel(\"Wartości\")\n",
    "plt.xlim(df['gdp_usd'].min() * 0.8, df['gdp_usd'].max() * 1.2)\n",
    "plt.grid(True)\n",
    "plt.xscale(\"symlog\")\n",
    "plt.show()"
   ],
   "id": "ef4af96779cd9ad7",
   "outputs": [
    {
     "data": {
      "text/plain": [
       "<Figure size 1400x300 with 1 Axes>"
      ],
      "image/png": "[encoded data removed]"
     },
     "metadata": {},
     "output_type": "display_data"
    }
   ],
   "execution_count": 8
  },
  {
   "metadata": {},
   "cell_type": "markdown",
   "source": "##### 1.6. 4 innych różnych informacji, które uznasz za istotne",
   "id": "31f264481c3f0e9b"
  },
  {
   "metadata": {
    "ExecuteTime": {
     "end_time": "2025-03-27T17:58:54.631143Z",
     "start_time": "2025-03-27T17:58:53.752874Z"
    }
   },
   "cell_type": "code",
   "source": [
    "plt.figure(figsize=(14, 3))\n",
    "sns.boxplot(x=df['new_tested'], notch=True, showcaps=True, flierprops={\"marker\": \"x\"}, boxprops={\"facecolor\": \"mediumpurple\", \"alpha\": 0.7}, medianprops={\"color\": \"indigo\", \"linewidth\": 2})\n",
    "plt.title(f\"Boxplot for column new_tested\")\n",
    "plt.xlabel(\"Wartości\")\n",
    "plt.xlim(df['new_tested'].min() * 0.8, df['new_tested'].max() * 1.2)\n",
    "plt.grid(True)\n",
    "plt.xscale(\"symlog\")\n",
    "plt.show()"
   ],
   "id": "a712f54ed85df18e",
   "outputs": [
    {
     "data": {
      "text/plain": [
       "<Figure size 1400x300 with 1 Axes>"
      ],
      "image/png": "[encoded data removed]"
     },
     "metadata": {},
     "output_type": "display_data"
    }
   ],
   "execution_count": 9
  },
  {
   "metadata": {
    "ExecuteTime": {
     "end_time": "2025-03-27T17:58:55.447464Z",
     "start_time": "2025-03-27T17:58:54.634036Z"
    }
   },
   "cell_type": "code",
   "source": [
    "plt.figure(figsize=(14, 3))\n",
    "sns.boxplot(x=df['area_sq_km'], notch=True, showcaps=True, flierprops={\"marker\": \"x\"}, boxprops={\"facecolor\": \"mediumpurple\", \"alpha\": 0.7}, medianprops={\"color\": \"indigo\", \"linewidth\": 2})\n",
    "plt.title(f\"Boxplot for column area_sq_km\")\n",
    "plt.xlabel(\"Wartości\")\n",
    "plt.xlim(df['area_sq_km'].min() * 0.8, df['area_sq_km'].max() * 1.2)\n",
    "plt.grid(True)\n",
    "plt.xscale(\"symlog\")\n",
    "plt.show()"
   ],
   "id": "8dfd59a76ba67908",
   "outputs": [
    {
     "data": {
      "text/plain": [
       "<Figure size 1400x300 with 1 Axes>"
      ],
      "image/png": "[encoded data removed]"
     },
     "metadata": {},
     "output_type": "display_data"
    }
   ],
   "execution_count": 10
  },
  {
   "metadata": {
    "ExecuteTime": {
     "end_time": "2025-03-27T17:58:55.997171Z",
     "start_time": "2025-03-27T17:58:55.451185Z"
    }
   },
   "cell_type": "code",
   "source": [
    "plt.figure(figsize=(14, 3))\n",
    "sns.boxplot(x=df['density_sq_km'], notch=True, showcaps=True, flierprops={\"marker\": \"x\"}, boxprops={\"facecolor\": \"mediumpurple\", \"alpha\": 0.7}, medianprops={\"color\": \"indigo\", \"linewidth\": 2})\n",
    "plt.title(f\"Boxplot for column density_sq_km\")\n",
    "plt.xlabel(\"Wartości\")\n",
    "plt.xlim(df['density_sq_km'].min() * 0.8, df['density_sq_km'].max() * 1.2)\n",
    "plt.grid(True)\n",
    "plt.xscale(\"symlog\")\n",
    "plt.show()"
   ],
   "id": "eaaf09faea5f8917",
   "outputs": [
    {
     "data": {
      "text/plain": [
       "<Figure size 1400x300 with 1 Axes>"
      ],
      "image/png": "[encoded data removed]"
     },
     "metadata": {},
     "output_type": "display_data"
    }
   ],
   "execution_count": 11
  },
  {
   "metadata": {
    "ExecuteTime": {
     "end_time": "2025-03-27T17:58:56.501106Z",
     "start_time": "2025-03-27T17:58:55.997171Z"
    }
   },
   "cell_type": "code",
   "source": [
    "plt.figure(figsize=(14, 3))\n",
    "sns.boxplot(x=df['world_population_percentage'], notch=True, showcaps=True, flierprops={\"marker\": \"x\"}, boxprops={\"facecolor\": \"mediumpurple\", \"alpha\": 0.7}, medianprops={\"color\": \"indigo\", \"linewidth\": 2})\n",
    "plt.title(f\"Boxplot for column world_population_percentage\")\n",
    "plt.xlabel(\"Wartości\")\n",
    "plt.xlim(df['world_population_percentage'].min() * 0.8, df['world_population_percentage'].max() * 1.2)\n",
    "plt.grid(True)\n",
    "plt.xscale(\"symlog\")\n",
    "plt.show()"
   ],
   "id": "9951ece5f4b6b72b",
   "outputs": [
    {
     "data": {
      "text/plain": [
       "<Figure size 1400x300 with 1 Axes>"
      ],
      "image/png": "[encoded data removed]"
     },
     "metadata": {},
     "output_type": "display_data"
    }
   ],
   "execution_count": 12
  },
  {
   "metadata": {},
   "cell_type": "markdown",
   "source": [
    "### Część 3\n",
    "\n",
    "##### Obliczenia statystyczne (m.in. średnia, mediana, moda, odchylenie standardowe) pozwolają na zrozumienie rozkładu danych oraz na identyfikację ewentualnych anomalii lub nietypowych wartości. \n",
    "\n",
    "##### Wykonaj następujące obliczenia:"
   ],
   "id": "bfc6c228d9738b31"
  },
  {
   "metadata": {
    "ExecuteTime": {
     "end_time": "2025-03-27T17:58:56.628640Z",
     "start_time": "2025-03-27T17:58:56.501106Z"
    }
   },
   "cell_type": "code",
   "source": [
    "selected_countries = ['Poland', 'Germany', 'Italy', 'France', 'Spain', 'United Kingdom', 'United States of America', 'Greece', 'Austria', 'Japan']\n",
    "selected_columns = ['new_confirmed', 'new_deceased', 'new_persons_vaccinated']\n",
    "selected_year = 2021\n",
    "selected_month = 3\n",
    "\n",
    "df['date'] = pd.to_datetime(df['date'])\n",
    "df_base = df[(df['country_name'].isin(selected_countries)) & (df['date'].dt.year == selected_year) & (df['date'].dt.month == selected_month)]"
   ],
   "id": "f21df661b7733983",
   "outputs": [],
   "execution_count": 13
  },
  {
   "metadata": {},
   "cell_type": "markdown",
   "source": "##### 3.1. średnia liczba nowych zachorowań, śmierci i szczepień dla co najmniej 10 wybranych krajów w wybranym miesiącu",
   "id": "f4ade9bf18db9e8f"
  },
  {
   "metadata": {
    "ExecuteTime": {
     "end_time": "2025-03-27T18:36:10.413289Z",
     "start_time": "2025-03-27T18:36:10.404795Z"
    }
   },
   "cell_type": "code",
   "source": [
    "mean_per_country = df_base.groupby('country_name')[selected_columns].mean()\n",
    "\n",
    "mean_per_country = mean_per_country.rename(columns={\n",
    "    'new_confirmed': 'new_confirmed_mean', \n",
    "    'new_deceased': 'new_deceased_mean', \n",
    "    'new_persons_vaccinated': 'new_persons_vaccinated_mean'\n",
    "})\n",
    "mean_per_country['new_persons_vaccinated_mean'] = mean_per_country['new_persons_vaccinated_mean'].map('{:.6f}'.format)\n",
    "print(mean_per_country.to_string())"
   ],
   "id": "c9009a9c5d7b0ff0",
   "outputs": [
    {
     "name": "stdout",
     "output_type": "stream",
     "text": [
      "                          new_confirmed_mean  new_deceased_mean new_persons_vaccinated_mean\n",
      "country_name                                                                               \n",
      "Austria                          2811.741935          31.451613                25854.838710\n",
      "France                          28659.838710         297.161290               184449.709677\n",
      "Germany                         13254.645161         189.290323               187529.322581\n",
      "Greece                           2416.193548          52.451613                19276.259259\n",
      "Italy                           20909.677419         375.709677               133815.516129\n",
      "Japan                            1364.516129          41.096774                36896.913043\n",
      "Poland                          20777.161290         316.677419                67051.935484\n",
      "Spain                            5413.838710          96.580645               130783.761905\n",
      "United Kingdom                   5445.516129          95.838710               350709.451613\n",
      "United States of America        54007.290323         971.451613              1694514.741935\n"
     ]
    }
   ],
   "execution_count": 64
  },
  {
   "metadata": {},
   "cell_type": "markdown",
   "source": "##### 3.2. średnia zmiana liczby zachorowań, śmierci i szczepień dla co najmniej 10 wybranych krajów w wybranym miesiącu",
   "id": "f89037d4c27d8fe3"
  },
  {
   "metadata": {
    "ExecuteTime": {
     "end_time": "2025-03-27T17:58:56.648496Z",
     "start_time": "2025-03-27T17:58:56.645234Z"
    }
   },
   "cell_type": "code",
   "source": "",
   "id": "6c50ac30e227b6ad",
   "outputs": [],
   "execution_count": 14
  },
  {
   "metadata": {},
   "cell_type": "markdown",
   "source": "##### 3.3. mediana liczby nowych zachorowań, śmierci i szczepień dla co najmniej 10 wybranych krajów w wybranym miesiącu",
   "id": "b2ada143d4173bd"
  },
  {
   "metadata": {
    "ExecuteTime": {
     "end_time": "2025-03-27T18:37:22.902641Z",
     "start_time": "2025-03-27T18:37:22.880130Z"
    }
   },
   "cell_type": "code",
   "source": [
    "median_per_country = df_base.groupby('country_name')[selected_columns].median()\n",
    "\n",
    "median_per_country = median_per_country.rename(columns={\n",
    "    'new_confirmed': 'new_confirmed_median', \n",
    "    'new_deceased': 'new_deceased_median', \n",
    "    'new_persons_vaccinated': 'new_persons_vaccinated_median'\n",
    "})\n",
    "\n",
    "median_per_country['new_persons_vaccinated_median'] = median_per_country['new_persons_vaccinated_median'].round(3)\n",
    "print(median_per_country.to_string())"
   ],
   "id": "8874968072d1b85e",
   "outputs": [
    {
     "name": "stdout",
     "output_type": "stream",
     "text": [
      "                          new_confirmed_median  new_deceased_median  new_persons_vaccinated_median\n",
      "country_name                                                                                      \n",
      "Austria                                 2782.0                 32.0                        25154.0\n",
      "France                                 27166.0                287.0                       172457.0\n",
      "Germany                                12553.0                195.0                       190319.0\n",
      "Greece                                  2503.0                 52.0                        20914.0\n",
      "Italy                                  21315.0                376.0                       136825.0\n",
      "Japan                                   1309.0                 41.0                        38731.0\n",
      "Poland                                 18775.0                349.0                        60675.0\n",
      "Spain                                   5701.0                 93.0                       107709.0\n",
      "United Kingdom                          5616.0                 83.0                       329897.0\n",
      "United States of America               55436.0                909.0                      1814558.0\n"
     ]
    }
   ],
   "execution_count": 66
  },
  {
   "metadata": {},
   "cell_type": "markdown",
   "source": "##### 3.4. odchylenie standardowe liczby nowych zachorowań, śmierci i szczepień dla co najmniej 10 wybranych krajów w wybranym miesiącu",
   "id": "5332e1364bca98e3"
  },
  {
   "metadata": {
    "ExecuteTime": {
     "end_time": "2025-03-27T18:37:30.032891Z",
     "start_time": "2025-03-27T18:37:30.012813Z"
    }
   },
   "cell_type": "code",
   "source": [
    "std_per_country = df_base.groupby('country_name')[selected_columns].std()\n",
    "\n",
    "std_per_country = std_per_country.rename(columns={\n",
    "    'new_confirmed': 'new_confirmed_std', \n",
    "    'new_deceased': 'new_deceased_std',\n",
    "    'new_persons_vaccinated': 'new_persons_vaccinated_std', \n",
    "    \n",
    "})\n",
    "\n",
    "std_per_country['new_persons_vaccinated_std'] = std_per_country['new_persons_vaccinated_std'].map('{:.6f}'.format)\n",
    "print(std_per_country.to_string())"
   ],
   "id": "94af8e3422166ff",
   "outputs": [
    {
     "name": "stdout",
     "output_type": "stream",
     "text": [
      "                          new_confirmed_std  new_deceased_std new_persons_vaccinated_std\n",
      "country_name                                                                            \n",
      "Austria                          473.535846          5.233474               11005.539130\n",
      "France                         13889.657647        143.841370               79857.145877\n",
      "Germany                         5762.387593         61.747979               46521.988032\n",
      "Greece                           833.049515         12.722261                7799.308611\n",
      "Italy                           4048.393289         81.696672               38283.760567\n",
      "Japan                            487.515461         13.419774               22961.628907\n",
      "Poland                          8242.963921        171.810242               42214.242867\n",
      "Spain                           1866.347022         26.068850               81577.812594\n",
      "United Kingdom                   994.547196         50.489007              131595.263496\n",
      "United States of America        7926.399196        334.230543              519812.494230\n"
     ]
    }
   ],
   "execution_count": 67
  },
  {
   "metadata": {},
   "cell_type": "markdown",
   "source": "##### 3.5. minimalna, średnia i maksymalna liczba nowych zachorowań, szczepień i śmierci, a PKB co najmniej 10 wybranych krajów",
   "id": "8bdac0d91dac2dde"
  },
  {
   "metadata": {
    "ExecuteTime": {
     "end_time": "2025-03-27T18:39:54.617813Z",
     "start_time": "2025-03-27T18:39:54.573176Z"
    }
   },
   "cell_type": "code",
   "source": [
    "selected_columns_with_gdp = ['new_confirmed', 'new_deceased', 'new_persons_vaccinated']\n",
    "\n",
    "stats_with_gdp = df_base.groupby('country_name')[selected_columns_with_gdp].agg(['min', 'mean', 'max'])\n",
    "gdp_per_country = df[['country_name','gdp_usd']].drop_duplicates()\n",
    "\n",
    "stats_with_gdp.columns = [\n",
    "    'new_confirmed_min', 'new_confirmed_mean', 'new_confirmed_max',\n",
    "    'new_deceased_min', 'new_deceased_mean', 'new_deceased_max',\n",
    "    'new_vaccinated_min', 'new_vaccinated_mean', 'new_vaccinated_max'\n",
    "]\n",
    "\n",
    "stats_with_gdp = stats_with_gdp.merge(gdp_per_country, on='country_name', how='left')\n",
    "stats_with_gdp['gdp_usd'] = stats_with_gdp['gdp_usd'].map('{:.0f}'.format)\n",
    "stats_with_gdp['new_vaccinated_mean'] = stats_with_gdp['new_vaccinated_mean'].map('{:.6f}'.format)\n",
    "\n",
    "stats_with_gdp"
   ],
   "id": "2d021ba07bb6f9f6",
   "outputs": [
    {
     "data": {
      "text/plain": [
       "               country_name  new_confirmed_min  new_confirmed_mean  \\\n",
       "0                   Austria             1904.0         2811.741935   \n",
       "1                    France             4703.0        28659.838710   \n",
       "2                   Germany             3363.0        13254.645161   \n",
       "3                    Greece             1134.0         2416.193548   \n",
       "4                     Italy            12916.0        20909.677419   \n",
       "5                     Japan              599.0         1364.516129   \n",
       "6                    Poland             6170.0        20777.161290   \n",
       "7                     Spain             1991.0         5413.838710   \n",
       "8            United Kingdom             3731.0         5445.516129   \n",
       "9  United States of America            39828.0        54007.290323   \n",
       "\n",
       "   new_confirmed_max  new_deceased_min  new_deceased_mean  new_deceased_max  \\\n",
       "0             3639.0              22.0          31.451613              43.0   \n",
       "1            65373.0             130.0         297.161290             897.0   \n",
       "2            23994.0              75.0         189.290323             302.0   \n",
       "3             4322.0              23.0          52.451613              76.0   \n",
       "4            26824.0             207.0         375.709677             551.0   \n",
       "5             2832.0              22.0          41.096774              68.0   \n",
       "6            35251.0              28.0         316.677419             653.0   \n",
       "7             9063.0              63.0          96.580645             153.0   \n",
       "8             7192.0              34.0          95.838710             224.0   \n",
       "9            70589.0             491.0         971.451613            1872.0   \n",
       "\n",
       "   new_vaccinated_min new_vaccinated_mean  new_vaccinated_max         gdp_usd  \n",
       "0              8156.0        25854.838710             53736.0    455140042000  \n",
       "1             49942.0       184449.709677            358804.0   2776646200000  \n",
       "2            111224.0       187529.322581            285763.0   3946356600000  \n",
       "3               116.0        19276.259259             28724.0    217962048000  \n",
       "4             66920.0       133815.516129            211504.0   2083196780000  \n",
       "5              1871.0        36896.913043             73352.0   5081769542379  \n",
       "6              7572.0        67051.935484            170070.0    585705873800  \n",
       "7             38789.0       130783.761905            405701.0   1418587740000  \n",
       "8            164143.0       350709.451613            752308.0   2860009176200  \n",
       "9            646974.0      1694514.741935           2403238.0  21374418877706  "
      ],
      "text/html": [
       "<div>\n",
       "<style scoped>\n",
       "    .dataframe tbody tr th:only-of-type {\n",
       "        vertical-align: middle;\n",
       "    }\n",
       "\n",
       "    .dataframe tbody tr th {\n",
       "        vertical-align: top;\n",
       "    }\n",
       "\n",
       "    .dataframe thead th {\n",
       "        text-align: right;\n",
       "    }\n",
       "</style>\n",
       "<table border=\"1\" class=\"dataframe\">\n",
       "  <thead>\n",
       "    <tr style=\"text-align: right;\">\n",
       "      <th></th>\n",
       "      <th>country_name</th>\n",
       "      <th>new_confirmed_min</th>\n",
       "      <th>new_confirmed_mean</th>\n",
       "      <th>new_confirmed_max</th>\n",
       "      <th>new_deceased_min</th>\n",
       "      <th>new_deceased_mean</th>\n",
       "      <th>new_deceased_max</th>\n",
       "      <th>new_vaccinated_min</th>\n",
       "      <th>new_vaccinated_mean</th>\n",
       "      <th>new_vaccinated_max</th>\n",
       "      <th>gdp_usd</th>\n",
       "    </tr>\n",
       "  </thead>\n",
       "  <tbody>\n",
       "    <tr>\n",
       "      <th>0</th>\n",
       "      <td>Austria</td>\n",
       "      <td>1904.0</td>\n",
       "      <td>2811.741935</td>\n",
       "      <td>3639.0</td>\n",
       "      <td>22.0</td>\n",
       "      <td>31.451613</td>\n",
       "      <td>43.0</td>\n",
       "      <td>8156.0</td>\n",
       "      <td>25854.838710</td>\n",
       "      <td>53736.0</td>\n",
       "      <td>455140042000</td>\n",
       "    </tr>\n",
       "    <tr>\n",
       "      <th>1</th>\n",
       "      <td>France</td>\n",
       "      <td>4703.0</td>\n",
       "      <td>28659.838710</td>\n",
       "      <td>65373.0</td>\n",
       "      <td>130.0</td>\n",
       "      <td>297.161290</td>\n",
       "      <td>897.0</td>\n",
       "      <td>49942.0</td>\n",
       "      <td>184449.709677</td>\n",
       "      <td>358804.0</td>\n",
       "      <td>2776646200000</td>\n",
       "    </tr>\n",
       "    <tr>\n",
       "      <th>2</th>\n",
       "      <td>Germany</td>\n",
       "      <td>3363.0</td>\n",
       "      <td>13254.645161</td>\n",
       "      <td>23994.0</td>\n",
       "      <td>75.0</td>\n",
       "      <td>189.290323</td>\n",
       "      <td>302.0</td>\n",
       "      <td>111224.0</td>\n",
       "      <td>187529.322581</td>\n",
       "      <td>285763.0</td>\n",
       "      <td>3946356600000</td>\n",
       "    </tr>\n",
       "    <tr>\n",
       "      <th>3</th>\n",
       "      <td>Greece</td>\n",
       "      <td>1134.0</td>\n",
       "      <td>2416.193548</td>\n",
       "      <td>4322.0</td>\n",
       "      <td>23.0</td>\n",
       "      <td>52.451613</td>\n",
       "      <td>76.0</td>\n",
       "      <td>116.0</td>\n",
       "      <td>19276.259259</td>\n",
       "      <td>28724.0</td>\n",
       "      <td>217962048000</td>\n",
       "    </tr>\n",
       "    <tr>\n",
       "      <th>4</th>\n",
       "      <td>Italy</td>\n",
       "      <td>12916.0</td>\n",
       "      <td>20909.677419</td>\n",
       "      <td>26824.0</td>\n",
       "      <td>207.0</td>\n",
       "      <td>375.709677</td>\n",
       "      <td>551.0</td>\n",
       "      <td>66920.0</td>\n",
       "      <td>133815.516129</td>\n",
       "      <td>211504.0</td>\n",
       "      <td>2083196780000</td>\n",
       "    </tr>\n",
       "    <tr>\n",
       "      <th>5</th>\n",
       "      <td>Japan</td>\n",
       "      <td>599.0</td>\n",
       "      <td>1364.516129</td>\n",
       "      <td>2832.0</td>\n",
       "      <td>22.0</td>\n",
       "      <td>41.096774</td>\n",
       "      <td>68.0</td>\n",
       "      <td>1871.0</td>\n",
       "      <td>36896.913043</td>\n",
       "      <td>73352.0</td>\n",
       "      <td>5081769542379</td>\n",
       "    </tr>\n",
       "    <tr>\n",
       "      <th>6</th>\n",
       "      <td>Poland</td>\n",
       "      <td>6170.0</td>\n",
       "      <td>20777.161290</td>\n",
       "      <td>35251.0</td>\n",
       "      <td>28.0</td>\n",
       "      <td>316.677419</td>\n",
       "      <td>653.0</td>\n",
       "      <td>7572.0</td>\n",
       "      <td>67051.935484</td>\n",
       "      <td>170070.0</td>\n",
       "      <td>585705873800</td>\n",
       "    </tr>\n",
       "    <tr>\n",
       "      <th>7</th>\n",
       "      <td>Spain</td>\n",
       "      <td>1991.0</td>\n",
       "      <td>5413.838710</td>\n",
       "      <td>9063.0</td>\n",
       "      <td>63.0</td>\n",
       "      <td>96.580645</td>\n",
       "      <td>153.0</td>\n",
       "      <td>38789.0</td>\n",
       "      <td>130783.761905</td>\n",
       "      <td>405701.0</td>\n",
       "      <td>1418587740000</td>\n",
       "    </tr>\n",
       "    <tr>\n",
       "      <th>8</th>\n",
       "      <td>United Kingdom</td>\n",
       "      <td>3731.0</td>\n",
       "      <td>5445.516129</td>\n",
       "      <td>7192.0</td>\n",
       "      <td>34.0</td>\n",
       "      <td>95.838710</td>\n",
       "      <td>224.0</td>\n",
       "      <td>164143.0</td>\n",
       "      <td>350709.451613</td>\n",
       "      <td>752308.0</td>\n",
       "      <td>2860009176200</td>\n",
       "    </tr>\n",
       "    <tr>\n",
       "      <th>9</th>\n",
       "      <td>United States of America</td>\n",
       "      <td>39828.0</td>\n",
       "      <td>54007.290323</td>\n",
       "      <td>70589.0</td>\n",
       "      <td>491.0</td>\n",
       "      <td>971.451613</td>\n",
       "      <td>1872.0</td>\n",
       "      <td>646974.0</td>\n",
       "      <td>1694514.741935</td>\n",
       "      <td>2403238.0</td>\n",
       "      <td>21374418877706</td>\n",
       "    </tr>\n",
       "  </tbody>\n",
       "</table>\n",
       "</div>"
      ]
     },
     "execution_count": 69,
     "metadata": {},
     "output_type": "execute_result"
    }
   ],
   "execution_count": 69
  },
  {
   "metadata": {},
   "cell_type": "markdown",
   "source": "##### 3.6. minimalna, średnia i maksymalna liczba nowych zachorowań, szczepień i śmierci, a populacja co najmniej 10 wybranych krajów.",
   "id": "c85ed42619bf7b7b"
  },
  {
   "metadata": {
    "ExecuteTime": {
     "end_time": "2025-03-27T18:42:00.900833Z",
     "start_time": "2025-03-27T18:42:00.851534Z"
    }
   },
   "cell_type": "code",
   "source": [
    "selected_columns_with_gdp = ['new_confirmed', 'new_deceased', 'new_persons_vaccinated']\n",
    "\n",
    "stats_with_population = df_base.groupby('country_name')[selected_columns_with_gdp].agg(['min', 'mean', 'max'])\n",
    "population_per_country = df[['country_name','population']].drop_duplicates()\n",
    "\n",
    "stats_with_population.columns = [\n",
    "    'new_confirmed_min', 'new_confirmed_mean', 'new_confirmed_max',\n",
    "    'new_deceased_min', 'new_deceased_mean', 'new_deceased_max',\n",
    "    'new_vaccinated_min', 'new_vaccinated_mean', 'new_vaccinated_max'\n",
    "]\n",
    "\n",
    "stats_with_population = stats_with_population.merge(population_per_country, on='country_name', how='left')\n",
    "stats_with_population['population'] = stats_with_population['population'].map('{:.0f}'.format)\n",
    "stats_with_population['new_vaccinated_mean'] = stats_with_population['new_vaccinated_mean'].map('{:.6f}'.format)\n",
    "\n",
    "stats_with_population"
   ],
   "id": "63dddb7aa9d798ac",
   "outputs": [
    {
     "data": {
      "text/plain": [
       "               country_name  new_confirmed_min  new_confirmed_mean  \\\n",
       "0                   Austria             1904.0         2811.741935   \n",
       "1                    France             4703.0        28659.838710   \n",
       "2                   Germany             3363.0        13254.645161   \n",
       "3                    Greece             1134.0         2416.193548   \n",
       "4                     Italy            12916.0        20909.677419   \n",
       "5                     Japan              599.0         1364.516129   \n",
       "6                    Poland             6170.0        20777.161290   \n",
       "7                     Spain             1991.0         5413.838710   \n",
       "8            United Kingdom             3731.0         5445.516129   \n",
       "9  United States of America            39828.0        54007.290323   \n",
       "\n",
       "   new_confirmed_max  new_deceased_min  new_deceased_mean  new_deceased_max  \\\n",
       "0             3639.0              22.0          31.451613              43.0   \n",
       "1            65373.0             130.0         297.161290             897.0   \n",
       "2            23994.0              75.0         189.290323             302.0   \n",
       "3             4322.0              23.0          52.451613              76.0   \n",
       "4            26824.0             207.0         375.709677             551.0   \n",
       "5             2832.0              22.0          41.096774              68.0   \n",
       "6            35251.0              28.0         316.677419             653.0   \n",
       "7             9063.0              63.0          96.580645             153.0   \n",
       "8             7192.0              34.0          95.838710             224.0   \n",
       "9            70589.0             491.0         971.451613            1872.0   \n",
       "\n",
       "   new_vaccinated_min new_vaccinated_mean  new_vaccinated_max population  \n",
       "0              8156.0        25854.838710             53736.0    8858775  \n",
       "1             49942.0       184449.709677            358804.0   67012883  \n",
       "2            111224.0       187529.322581            285763.0   83019213  \n",
       "3               116.0        19276.259259             28724.0   10724599  \n",
       "4             66920.0       133815.516129            211504.0   60359546  \n",
       "5              1871.0        36896.913043             73352.0  126476458  \n",
       "6              7572.0        67051.935484            170070.0   37972812  \n",
       "7             38789.0       130783.761905            405701.0   46937060  \n",
       "8            164143.0       350709.451613            752308.0   66647112  \n",
       "9            646974.0      1694514.741935           2403238.0  331002647  "
      ],
      "text/html": [
       "<div>\n",
       "<style scoped>\n",
       "    .dataframe tbody tr th:only-of-type {\n",
       "        vertical-align: middle;\n",
       "    }\n",
       "\n",
       "    .dataframe tbody tr th {\n",
       "        vertical-align: top;\n",
       "    }\n",
       "\n",
       "    .dataframe thead th {\n",
       "        text-align: right;\n",
       "    }\n",
       "</style>\n",
       "<table border=\"1\" class=\"dataframe\">\n",
       "  <thead>\n",
       "    <tr style=\"text-align: right;\">\n",
       "      <th></th>\n",
       "      <th>country_name</th>\n",
       "      <th>new_confirmed_min</th>\n",
       "      <th>new_confirmed_mean</th>\n",
       "      <th>new_confirmed_max</th>\n",
       "      <th>new_deceased_min</th>\n",
       "      <th>new_deceased_mean</th>\n",
       "      <th>new_deceased_max</th>\n",
       "      <th>new_vaccinated_min</th>\n",
       "      <th>new_vaccinated_mean</th>\n",
       "      <th>new_vaccinated_max</th>\n",
       "      <th>population</th>\n",
       "    </tr>\n",
       "  </thead>\n",
       "  <tbody>\n",
       "    <tr>\n",
       "      <th>0</th>\n",
       "      <td>Austria</td>\n",
       "      <td>1904.0</td>\n",
       "      <td>2811.741935</td>\n",
       "      <td>3639.0</td>\n",
       "      <td>22.0</td>\n",
       "      <td>31.451613</td>\n",
       "      <td>43.0</td>\n",
       "      <td>8156.0</td>\n",
       "      <td>25854.838710</td>\n",
       "      <td>53736.0</td>\n",
       "      <td>8858775</td>\n",
       "    </tr>\n",
       "    <tr>\n",
       "      <th>1</th>\n",
       "      <td>France</td>\n",
       "      <td>4703.0</td>\n",
       "      <td>28659.838710</td>\n",
       "      <td>65373.0</td>\n",
       "      <td>130.0</td>\n",
       "      <td>297.161290</td>\n",
       "      <td>897.0</td>\n",
       "      <td>49942.0</td>\n",
       "      <td>184449.709677</td>\n",
       "      <td>358804.0</td>\n",
       "      <td>67012883</td>\n",
       "    </tr>\n",
       "    <tr>\n",
       "      <th>2</th>\n",
       "      <td>Germany</td>\n",
       "      <td>3363.0</td>\n",
       "      <td>13254.645161</td>\n",
       "      <td>23994.0</td>\n",
       "      <td>75.0</td>\n",
       "      <td>189.290323</td>\n",
       "      <td>302.0</td>\n",
       "      <td>111224.0</td>\n",
       "      <td>187529.322581</td>\n",
       "      <td>285763.0</td>\n",
       "      <td>83019213</td>\n",
       "    </tr>\n",
       "    <tr>\n",
       "      <th>3</th>\n",
       "      <td>Greece</td>\n",
       "      <td>1134.0</td>\n",
       "      <td>2416.193548</td>\n",
       "      <td>4322.0</td>\n",
       "      <td>23.0</td>\n",
       "      <td>52.451613</td>\n",
       "      <td>76.0</td>\n",
       "      <td>116.0</td>\n",
       "      <td>19276.259259</td>\n",
       "      <td>28724.0</td>\n",
       "      <td>10724599</td>\n",
       "    </tr>\n",
       "    <tr>\n",
       "      <th>4</th>\n",
       "      <td>Italy</td>\n",
       "      <td>12916.0</td>\n",
       "      <td>20909.677419</td>\n",
       "      <td>26824.0</td>\n",
       "      <td>207.0</td>\n",
       "      <td>375.709677</td>\n",
       "      <td>551.0</td>\n",
       "      <td>66920.0</td>\n",
       "      <td>133815.516129</td>\n",
       "      <td>211504.0</td>\n",
       "      <td>60359546</td>\n",
       "    </tr>\n",
       "    <tr>\n",
       "      <th>5</th>\n",
       "      <td>Japan</td>\n",
       "      <td>599.0</td>\n",
       "      <td>1364.516129</td>\n",
       "      <td>2832.0</td>\n",
       "      <td>22.0</td>\n",
       "      <td>41.096774</td>\n",
       "      <td>68.0</td>\n",
       "      <td>1871.0</td>\n",
       "      <td>36896.913043</td>\n",
       "      <td>73352.0</td>\n",
       "      <td>126476458</td>\n",
       "    </tr>\n",
       "    <tr>\n",
       "      <th>6</th>\n",
       "      <td>Poland</td>\n",
       "      <td>6170.0</td>\n",
       "      <td>20777.161290</td>\n",
       "      <td>35251.0</td>\n",
       "      <td>28.0</td>\n",
       "      <td>316.677419</td>\n",
       "      <td>653.0</td>\n",
       "      <td>7572.0</td>\n",
       "      <td>67051.935484</td>\n",
       "      <td>170070.0</td>\n",
       "      <td>37972812</td>\n",
       "    </tr>\n",
       "    <tr>\n",
       "      <th>7</th>\n",
       "      <td>Spain</td>\n",
       "      <td>1991.0</td>\n",
       "      <td>5413.838710</td>\n",
       "      <td>9063.0</td>\n",
       "      <td>63.0</td>\n",
       "      <td>96.580645</td>\n",
       "      <td>153.0</td>\n",
       "      <td>38789.0</td>\n",
       "      <td>130783.761905</td>\n",
       "      <td>405701.0</td>\n",
       "      <td>46937060</td>\n",
       "    </tr>\n",
       "    <tr>\n",
       "      <th>8</th>\n",
       "      <td>United Kingdom</td>\n",
       "      <td>3731.0</td>\n",
       "      <td>5445.516129</td>\n",
       "      <td>7192.0</td>\n",
       "      <td>34.0</td>\n",
       "      <td>95.838710</td>\n",
       "      <td>224.0</td>\n",
       "      <td>164143.0</td>\n",
       "      <td>350709.451613</td>\n",
       "      <td>752308.0</td>\n",
       "      <td>66647112</td>\n",
       "    </tr>\n",
       "    <tr>\n",
       "      <th>9</th>\n",
       "      <td>United States of America</td>\n",
       "      <td>39828.0</td>\n",
       "      <td>54007.290323</td>\n",
       "      <td>70589.0</td>\n",
       "      <td>491.0</td>\n",
       "      <td>971.451613</td>\n",
       "      <td>1872.0</td>\n",
       "      <td>646974.0</td>\n",
       "      <td>1694514.741935</td>\n",
       "      <td>2403238.0</td>\n",
       "      <td>331002647</td>\n",
       "    </tr>\n",
       "  </tbody>\n",
       "</table>\n",
       "</div>"
      ]
     },
     "execution_count": 74,
     "metadata": {},
     "output_type": "execute_result"
    }
   ],
   "execution_count": 74
  },
  {
   "metadata": {},
   "cell_type": "markdown",
   "source": "##### Przygotuj wykresy w celu porównania otrzymanych wyników. Pamiętaj o ich czytelności (typ wykresu, tytuł wykresu, podpisy osi, odpowiednie zakresy osi, itp.). Przeanalizuj otrzymane wizualizacje.",
   "id": "e1e48ec82a050b8c"
  },
  {
   "metadata": {
    "ExecuteTime": {
     "end_time": "2025-03-27T17:58:56.679874Z",
     "start_time": "2025-03-27T17:58:56.674464Z"
    }
   },
   "cell_type": "code",
   "source": "",
   "id": "401f233856db68bd",
   "outputs": [],
   "execution_count": 15
  },
  {
   "metadata": {},
   "cell_type": "markdown",
   "source": [
    "### Część 4\n",
    "\n",
    "##### Normalizacja danych polega na przeskalowaniu wartości zmiennych do określonego zakresu, np. [0, 1], co ułatwia porównanie różnych zmiennych między sobą.\n",
    "##### Wykonaj normalizację dla następujących przypadków:\n",
    "##### 4.1. liczba zachorowań na określoną przez Ciebie liczbę osób (np. na 1000 osób)"
   ],
   "id": "39a3ac89ab4b8f0f"
  },
  {
   "metadata": {
    "ExecuteTime": {
     "end_time": "2025-03-27T17:58:56.687889Z",
     "start_time": "2025-03-27T17:58:56.681926Z"
    }
   },
   "cell_type": "code",
   "source": "",
   "id": "618c500017fd5e46",
   "outputs": [],
   "execution_count": 15
  },
  {
   "metadata": {},
   "cell_type": "markdown",
   "source": "##### 4.2. liczba szczepień na określoną przez Ciebie liczbę osób (np. na 1000 osób)",
   "id": "d03741e027f8cc77"
  },
  {
   "metadata": {
    "ExecuteTime": {
     "end_time": "2025-03-27T17:58:56.696473Z",
     "start_time": "2025-03-27T17:58:56.690699Z"
    }
   },
   "cell_type": "code",
   "source": "",
   "id": "d254ed608269c76f",
   "outputs": [],
   "execution_count": 15
  },
  {
   "metadata": {},
   "cell_type": "markdown",
   "source": "##### 4.3. liczba zgonów na określoną przez Ciebie liczbę osób (np. na 1000 osób)",
   "id": "c41bf781a8805429"
  },
  {
   "metadata": {
    "ExecuteTime": {
     "end_time": "2025-03-27T17:58:56.703967Z",
     "start_time": "2025-03-27T17:58:56.696473Z"
    }
   },
   "cell_type": "code",
   "source": "",
   "id": "da28ac41acdc7656",
   "outputs": [],
   "execution_count": 15
  },
  {
   "metadata": {},
   "cell_type": "markdown",
   "source": "##### 4.4. co najmniej 4 dodatkowe, które uznasz za istotne",
   "id": "874ff601f6ba7b34"
  },
  {
   "metadata": {
    "ExecuteTime": {
     "end_time": "2025-03-27T17:58:56.712959Z",
     "start_time": "2025-03-27T17:58:56.706629Z"
    }
   },
   "cell_type": "code",
   "source": "",
   "id": "ab21daa3faf35cea",
   "outputs": [],
   "execution_count": 15
  },
  {
   "metadata": {},
   "cell_type": "markdown",
   "source": "##### Przygotuj wykresy w celu porównania otrzymanych wyników. Pamiętaj o ich czytelności (typ wykresu, tytuł wykresu, podpisy osi, odpowiednie zakresy osi, itp.). Przeanalizuj otrzymane wizualizacje.",
   "id": "98396732b39a1d0f"
  },
  {
   "metadata": {
    "ExecuteTime": {
     "end_time": "2025-03-27T17:58:56.721570Z",
     "start_time": "2025-03-27T17:58:56.712959Z"
    }
   },
   "cell_type": "code",
   "source": "",
   "id": "d5223f71f5635e97",
   "outputs": [],
   "execution_count": 15
  }
 ],
 "metadata": {
  "kernelspec": {
   "display_name": "Python 3",
   "language": "python",
   "name": "python3"
  },
  "language_info": {
   "codemirror_mode": {
    "name": "ipython",
    "version": 2
   },
   "file_extension": ".py",
   "mimetype": "text/x-python",
   "name": "python",
   "nbconvert_exporter": "python",
   "pygments_lexer": "ipython2",
   "version": "2.7.6"
  }
 },
 "nbformat": 4,
 "nbformat_minor": 5
}
