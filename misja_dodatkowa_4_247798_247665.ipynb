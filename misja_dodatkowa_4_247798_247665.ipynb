{
 "cells": [
  {
   "metadata": {},
   "cell_type": "markdown",
   "source": [
    "### Podstawy przetwarzania dużych zbiorów danych - poziom 2 misja dodatkowa 4\n",
    "#### Paulina Szczepaniak 247798\n",
    "#### Jan Gluźniewicz 247665"
   ],
   "id": "a7db94e402f8e9eb"
  },
  {
   "cell_type": "code",
   "execution_count": null,
   "id": "initial_id",
   "metadata": {
    "collapsed": true
   },
   "outputs": [],
   "source": [
    "import pandas as pd\n",
    "import matplotlib.pyplot as plt\n",
    "import seaborn as sns"
   ]
  },
  {
   "metadata": {},
   "cell_type": "code",
   "outputs": [],
   "execution_count": null,
   "source": [
    "df = pd.read_csv('df_merged_world_countries.csv')\n",
    "df"
   ],
   "id": "f09abb30ae2a054f"
  },
  {
   "metadata": {},
   "cell_type": "markdown",
   "source": [
    "## Część 2\n",
    "### Misja dodatkowa - Outliery\n",
    "##### Outliery, czyli wartości odstające można zidentyfikować i usunąć lub zmienić na bardziej odpowiednie przed przeprowadzeniem transformacji danych. Istnieje kilka technik do wykrywania wartości odstających, m.in: \n",
    "\n",
    "#### Metoda Z-Score\n",
    "##### Metoda statystyczna, która mierzy, jak wiele odchyleń standardowych wartość jest oddalona od średniej. Wartości z wysokim Z-Score (np. powyżej 2 lub 3) mogą być uznane za wartości odstające, a następnie usunięte. \n",
    "\n",
    "#### Metoda IQR (ang. InterQuartile Range)\n",
    "##### Technika oparta na kwartylach, w której oblicza się zakres międzykwartylowy (Q3 - Q1) i wartości odstające są określane jako wartości leżące poza granicami 1,5 IQR poniżej Q1 lub powyżej Q3. \n",
    "\n",
    "##### Usuń wartości odstające dla co najmniej 2 informacji z części 1 poziomu 2. W tym celu użyj dwóch różnych metod obliczania outlierów. Uzasadnij swój wybór. Przeanalizuj otrzymane wyniki.  "
   ],
   "id": "874b5540e0352b13"
  },
  {
   "metadata": {},
   "cell_type": "code",
   "outputs": [],
   "execution_count": null,
   "source": "",
   "id": "7623217f496e31d5"
  }
 ],
 "metadata": {
  "kernelspec": {
   "display_name": "Python 3",
   "language": "python",
   "name": "python3"
  },
  "language_info": {
   "codemirror_mode": {
    "name": "ipython",
    "version": 2
   },
   "file_extension": ".py",
   "mimetype": "text/x-python",
   "name": "python",
   "nbconvert_exporter": "python",
   "pygments_lexer": "ipython2",
   "version": "2.7.6"
  }
 },
 "nbformat": 4,
 "nbformat_minor": 5
}
